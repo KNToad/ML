{
 "cells": [
  {
   "cell_type": "markdown",
   "metadata": {
    "id": "hFGB93kFlzbH"
   },
   "source": [
    "## Описание проекта и данных"
   ]
  },
  {
   "cell_type": "markdown",
   "metadata": {
    "id": "0-U4ky7JlzbH"
   },
   "source": [
    "Кредитному отделу банка необходимо разобраться, влияет ли семейное положение и количество детей клиента на факт погашения кредита в срок.\n",
    "\n",
    "Входные данные от банка — статистика о платёжеспособности клиентов.\n",
    "\n",
    "Результаты исследования будут учтены при построении модели кредитного скоринга — специальной системы, которая оценивает способность потенциального заёмщика вернуть кредит банку."
   ]
  },
  {
   "cell_type": "markdown",
   "metadata": {
    "id": "IvcKGU8dlzbH"
   },
   "source": [
    "# Проект \"Исследование надежности заемщиков\""
   ]
  },
  {
   "cell_type": "markdown",
   "metadata": {
    "id": "-arIoP6blzbH"
   },
   "source": [
    "### Описание данных"
   ]
  },
  {
   "cell_type": "markdown",
   "metadata": {
    "id": "-pU09hsLlzbI"
   },
   "source": [
    "* `children` — количество детей в семье\n",
    "* `days_employed` — общий трудовой стаж в днях\n",
    "* `dob_years` — возраст клиента в годах\n",
    "* `education` — уровень образования клиента\n",
    "* `education_id` — идентификатор уровня образования\n",
    "* `family_status` — семейное положение\n",
    "* `family_status_id` — идентификатор семейного положения\n",
    "* `gender` — пол клиента\n",
    "* `income_type` — тип занятости\n",
    "* `debt` — имел ли задолженность по возврату кредитов\n",
    "* `total_income` — ежемесячный доход\n",
    "* `purpose` — цель получения кредита\n"
   ]
  },
  {
   "cell_type": "markdown",
   "metadata": {
    "id": "ht2OlJJFlzbI"
   },
   "source": [
    "## Изучение общей информации о данных\n"
   ]
  },
  {
   "cell_type": "code",
   "execution_count": 40,
   "metadata": {
    "id": "Q6pjyN7jlzbI"
   },
   "outputs": [],
   "source": [
    "import pandas as pd\n",
    "import numpy as np\n",
    "import seaborn as sns\n",
    "import matplotlib.pyplot as plt\n",
    "\n",
    "import warnings\n",
    "warnings.filterwarnings('ignore')"
   ]
  },
  {
   "cell_type": "code",
   "execution_count": 41,
   "metadata": {
    "colab": {
     "base_uri": "https://localhost:8080/"
    },
    "id": "kZiQRJ5clzbJ",
    "outputId": "260e0f5a-a462-4991-c508-d211cceefe22"
   },
   "outputs": [],
   "source": [
    "try:\n",
    "    df = pd.read_csv('scoring_data.csv')\n",
    "except FileNotFoundError:\n",
    "    print('файл не найден')"
   ]
  },
  {
   "cell_type": "code",
   "execution_count": 42,
   "metadata": {
    "colab": {
     "base_uri": "https://localhost:8080/",
     "height": 206
    },
    "id": "-XcHYowDlzbJ",
    "outputId": "18210ba1-2dbf-41d7-c933-f42864ecaa17"
   },
   "outputs": [
    {
     "data": {
      "text/html": [
       "<div>\n",
       "<style scoped>\n",
       "    .dataframe tbody tr th:only-of-type {\n",
       "        vertical-align: middle;\n",
       "    }\n",
       "\n",
       "    .dataframe tbody tr th {\n",
       "        vertical-align: top;\n",
       "    }\n",
       "\n",
       "    .dataframe thead th {\n",
       "        text-align: right;\n",
       "    }\n",
       "</style>\n",
       "<table border=\"1\" class=\"dataframe\">\n",
       "  <thead>\n",
       "    <tr style=\"text-align: right;\">\n",
       "      <th></th>\n",
       "      <th>children</th>\n",
       "      <th>days_employed</th>\n",
       "      <th>dob_years</th>\n",
       "      <th>education</th>\n",
       "      <th>education_id</th>\n",
       "      <th>family_status</th>\n",
       "      <th>family_status_id</th>\n",
       "      <th>gender</th>\n",
       "      <th>income_type</th>\n",
       "      <th>debt</th>\n",
       "      <th>total_income</th>\n",
       "      <th>purpose</th>\n",
       "    </tr>\n",
       "  </thead>\n",
       "  <tbody>\n",
       "    <tr>\n",
       "      <th>0</th>\n",
       "      <td>1</td>\n",
       "      <td>-8437.673028</td>\n",
       "      <td>42</td>\n",
       "      <td>высшее</td>\n",
       "      <td>0</td>\n",
       "      <td>женат / замужем</td>\n",
       "      <td>0</td>\n",
       "      <td>F</td>\n",
       "      <td>сотрудник</td>\n",
       "      <td>0</td>\n",
       "      <td>253875.639453</td>\n",
       "      <td>покупка жилья</td>\n",
       "    </tr>\n",
       "    <tr>\n",
       "      <th>1</th>\n",
       "      <td>1</td>\n",
       "      <td>-4024.803754</td>\n",
       "      <td>36</td>\n",
       "      <td>среднее</td>\n",
       "      <td>1</td>\n",
       "      <td>женат / замужем</td>\n",
       "      <td>0</td>\n",
       "      <td>F</td>\n",
       "      <td>сотрудник</td>\n",
       "      <td>0</td>\n",
       "      <td>112080.014102</td>\n",
       "      <td>приобретение автомобиля</td>\n",
       "    </tr>\n",
       "    <tr>\n",
       "      <th>2</th>\n",
       "      <td>0</td>\n",
       "      <td>-5623.422610</td>\n",
       "      <td>33</td>\n",
       "      <td>Среднее</td>\n",
       "      <td>1</td>\n",
       "      <td>женат / замужем</td>\n",
       "      <td>0</td>\n",
       "      <td>M</td>\n",
       "      <td>сотрудник</td>\n",
       "      <td>0</td>\n",
       "      <td>145885.952297</td>\n",
       "      <td>покупка жилья</td>\n",
       "    </tr>\n",
       "    <tr>\n",
       "      <th>3</th>\n",
       "      <td>3</td>\n",
       "      <td>-4124.747207</td>\n",
       "      <td>32</td>\n",
       "      <td>среднее</td>\n",
       "      <td>1</td>\n",
       "      <td>женат / замужем</td>\n",
       "      <td>0</td>\n",
       "      <td>M</td>\n",
       "      <td>сотрудник</td>\n",
       "      <td>0</td>\n",
       "      <td>267628.550329</td>\n",
       "      <td>дополнительное образование</td>\n",
       "    </tr>\n",
       "    <tr>\n",
       "      <th>4</th>\n",
       "      <td>0</td>\n",
       "      <td>340266.072047</td>\n",
       "      <td>53</td>\n",
       "      <td>среднее</td>\n",
       "      <td>1</td>\n",
       "      <td>гражданский брак</td>\n",
       "      <td>1</td>\n",
       "      <td>F</td>\n",
       "      <td>пенсионер</td>\n",
       "      <td>0</td>\n",
       "      <td>158616.077870</td>\n",
       "      <td>сыграть свадьбу</td>\n",
       "    </tr>\n",
       "  </tbody>\n",
       "</table>\n",
       "</div>"
      ],
      "text/plain": [
       "   children  days_employed  dob_years education  education_id  \\\n",
       "0         1   -8437.673028         42    высшее             0   \n",
       "1         1   -4024.803754         36   среднее             1   \n",
       "2         0   -5623.422610         33   Среднее             1   \n",
       "3         3   -4124.747207         32   среднее             1   \n",
       "4         0  340266.072047         53   среднее             1   \n",
       "\n",
       "      family_status  family_status_id gender income_type  debt   total_income  \\\n",
       "0   женат / замужем                 0      F   сотрудник     0  253875.639453   \n",
       "1   женат / замужем                 0      F   сотрудник     0  112080.014102   \n",
       "2   женат / замужем                 0      M   сотрудник     0  145885.952297   \n",
       "3   женат / замужем                 0      M   сотрудник     0  267628.550329   \n",
       "4  гражданский брак                 1      F   пенсионер     0  158616.077870   \n",
       "\n",
       "                      purpose  \n",
       "0               покупка жилья  \n",
       "1     приобретение автомобиля  \n",
       "2               покупка жилья  \n",
       "3  дополнительное образование  \n",
       "4             сыграть свадьбу  "
      ]
     },
     "execution_count": 42,
     "metadata": {},
     "output_type": "execute_result"
    }
   ],
   "source": [
    "df.head()"
   ]
  },
  {
   "cell_type": "code",
   "execution_count": 43,
   "metadata": {
    "colab": {
     "base_uri": "https://localhost:8080/"
    },
    "id": "RfM2wCjulzbJ",
    "outputId": "9a63e01e-058b-47b6-9626-756e1caaa0d0"
   },
   "outputs": [
    {
     "name": "stdout",
     "output_type": "stream",
     "text": [
      "<class 'pandas.core.frame.DataFrame'>\n",
      "RangeIndex: 21525 entries, 0 to 21524\n",
      "Data columns (total 12 columns):\n",
      " #   Column            Non-Null Count  Dtype  \n",
      "---  ------            --------------  -----  \n",
      " 0   children          21525 non-null  int64  \n",
      " 1   days_employed     19351 non-null  float64\n",
      " 2   dob_years         21525 non-null  int64  \n",
      " 3   education         21525 non-null  object \n",
      " 4   education_id      21525 non-null  int64  \n",
      " 5   family_status     21525 non-null  object \n",
      " 6   family_status_id  21525 non-null  int64  \n",
      " 7   gender            21525 non-null  object \n",
      " 8   income_type       21525 non-null  object \n",
      " 9   debt              21525 non-null  int64  \n",
      " 10  total_income      19351 non-null  float64\n",
      " 11  purpose           21525 non-null  object \n",
      "dtypes: float64(2), int64(5), object(5)\n",
      "memory usage: 2.0+ MB\n"
     ]
    }
   ],
   "source": [
    "df.info()"
   ]
  },
  {
   "cell_type": "markdown",
   "metadata": {
    "id": "-b0uv7ANlzbJ"
   },
   "source": [
    "В таблице 12 столбцов по 21525 записей. Тип данных в столбцах соответствуют хранящимся в них данных.\n",
    "\n",
    "В названиях колонок нарушений стиля не обнаружено. Переименовывать столбцы нет необходимости.\n",
    "\n",
    "Количество значений в столбцах различается. Значит, в данных есть пропущенные значения."
   ]
  },
  {
   "cell_type": "markdown",
   "metadata": {
    "id": "tPx2gI_8lzbK"
   },
   "source": [
    "### Вывод\n",
    "\n",
    "В каждой строке таблицы — данные о заемщиках банка. Часть колонок описывает клиента: общий трудовой стаж, возраст, уровень образования, семейное положение, пол, тип занятости, ежемесячный доход. Столбцы `education_id` и `family_status_id` выполняют роль перевода качественной характеристики заемщика в количественную, т.е. ставят в соответствие статусу семейного положения и уровня образования метку. Поэтому в целом можно сказать, что данные столбцов `education` и `family_status` продублированы в соответствии с их количественными идентификаторами и могут быть удалены из датасета из-за отсутствия информативности.\n",
    "Столбцы `debt` и `purpose` характеризуют клиента относительно процедуры кредитования, учитывают его кредитную историю.\n",
    "\n",
    "Устраним проблемы в данных."
   ]
  },
  {
   "cell_type": "markdown",
   "metadata": {
    "id": "V2wVtecNlzbK"
   },
   "source": [
    "## Предобработка данных"
   ]
  },
  {
   "cell_type": "markdown",
   "metadata": {
    "id": "cNUlOVqelzbK"
   },
   "source": [
    "### Пропуски\n"
   ]
  },
  {
   "cell_type": "code",
   "execution_count": 44,
   "metadata": {
    "colab": {
     "base_uri": "https://localhost:8080/"
    },
    "id": "TAEO_cD-lzbK",
    "outputId": "5ada461f-b8bd-4815-f05a-f36586cf6895"
   },
   "outputs": [
    {
     "data": {
      "text/plain": [
       "children            0.000000\n",
       "days_employed       0.100999\n",
       "dob_years           0.000000\n",
       "education           0.000000\n",
       "education_id        0.000000\n",
       "family_status       0.000000\n",
       "family_status_id    0.000000\n",
       "gender              0.000000\n",
       "income_type         0.000000\n",
       "debt                0.000000\n",
       "total_income        0.100999\n",
       "purpose             0.000000\n",
       "dtype: float64"
      ]
     },
     "execution_count": 44,
     "metadata": {},
     "output_type": "execute_result"
    }
   ],
   "source": [
    "# подсчёт пропусков\n",
    "df.isnull()\n",
    "df.isnull().mean()"
   ]
  },
  {
   "cell_type": "markdown",
   "metadata": {
    "id": "73gxxAE8lzbK"
   },
   "source": [
    "В столбцах `days_employed` и `total_income` имеются одинаковое количество пропущенных значений. Оба столбца - количественные, поэтому пропуски логично заполнить числовыми значениями.\n"
   ]
  },
  {
   "cell_type": "markdown",
   "metadata": {
    "id": "GRFrpDoslzbK"
   },
   "source": [
    "Пропуски составляют 10% от объема данных в соответствующих столбцах, удалять такое не следует, достаточный объем данных для изменения основных характеристик."
   ]
  },
  {
   "cell_type": "markdown",
   "metadata": {
    "id": "NnLrR7CMlzbK"
   },
   "source": [
    "Возможно, пропуски связаны с отсутствием занятости клиента, поэтому у него нет среднего дохода и стажа работы. Это вполне логично. Т.к. доля пропущенных значений невелика, то это не сильно повлияет на итоговый результат. Но эти пропуски могут быть связаны либо с отсутствием информации по этим пунктам, либо просто с отсутствием постоянного дохода и места работы заемщика.  Но в столбце `income_type` пропусков нет. Поэтому есть предположение, что сотрудники банка просто не внесли данную информацию при заполнении анкеты."
   ]
  },
  {
   "cell_type": "code",
   "execution_count": 45,
   "metadata": {
    "colab": {
     "base_uri": "https://localhost:8080/"
    },
    "id": "RiZrVMOulzbK",
    "outputId": "a63230fa-f87e-4a2b-8a54-521a6dc3ccd0"
   },
   "outputs": [
    {
     "data": {
      "text/plain": [
       "children            0.0\n",
       "days_employed       0.0\n",
       "dob_years           0.0\n",
       "education           0.0\n",
       "education_id        0.0\n",
       "family_status       0.0\n",
       "family_status_id    0.0\n",
       "gender              0.0\n",
       "income_type         0.0\n",
       "debt                0.0\n",
       "total_income        0.0\n",
       "purpose             0.0\n",
       "dtype: float64"
      ]
     },
     "execution_count": 45,
     "metadata": {},
     "output_type": "execute_result"
    }
   ],
   "source": [
    "# Заменим пропущенные значения медианными значениями по соответствующим столбцам\n",
    "df['days_employed'].fillna(df['days_employed'].median(), inplace=True)\n",
    "df['total_income'].fillna(df['total_income'].median(), inplace=True)\n",
    "# проверка заполненности пропусков\n",
    "df.isnull().mean()"
   ]
  },
  {
   "cell_type": "markdown",
   "metadata": {
    "id": "5ZdyJEOJlzbM"
   },
   "source": [
    "### Изменение типа данных\n"
   ]
  },
  {
   "cell_type": "markdown",
   "metadata": {
    "id": "EKrsx1RHwapp"
   },
   "source": [
    "Заменим вещественный тип данных в столбце `total_income` на целочисленный с помощью метода `astype()`."
   ]
  },
  {
   "cell_type": "code",
   "execution_count": 46,
   "metadata": {
    "colab": {
     "base_uri": "https://localhost:8080/"
    },
    "id": "-I8vsSftlzbM",
    "outputId": "5bfc38a2-1905-4775-b704-f274aaa892ec"
   },
   "outputs": [
    {
     "data": {
      "text/plain": [
       "children              int64\n",
       "days_employed       float64\n",
       "dob_years             int64\n",
       "education            object\n",
       "education_id          int64\n",
       "family_status        object\n",
       "family_status_id      int64\n",
       "gender               object\n",
       "income_type          object\n",
       "debt                  int64\n",
       "total_income          int32\n",
       "purpose              object\n",
       "dtype: object"
      ]
     },
     "execution_count": 46,
     "metadata": {},
     "output_type": "execute_result"
    }
   ],
   "source": [
    "df['total_income'] = df['total_income'].astype('int')\n",
    "df.dtypes"
   ]
  },
  {
   "cell_type": "markdown",
   "metadata": {
    "id": "bLc0CMYxlzbM"
   },
   "source": [
    "### Дубликаты"
   ]
  },
  {
   "cell_type": "code",
   "execution_count": 47,
   "metadata": {
    "colab": {
     "base_uri": "https://localhost:8080/"
    },
    "id": "n6rPx_3ZlzbM",
    "outputId": "1613201b-1993-4b3f-9dd2-6f0f9141a754"
   },
   "outputs": [
    {
     "data": {
      "text/plain": [
       "54"
      ]
     },
     "execution_count": 47,
     "metadata": {},
     "output_type": "execute_result"
    }
   ],
   "source": [
    "# подсчёт явных дубликатов\n",
    "df.duplicated().sum()"
   ]
  },
  {
   "cell_type": "code",
   "execution_count": 48,
   "metadata": {
    "colab": {
     "base_uri": "https://localhost:8080/"
    },
    "id": "5zt5QkLelzbM",
    "outputId": "377cbfb8-0910-44f4-d32e-f7b3e23e446e"
   },
   "outputs": [
    {
     "data": {
      "text/plain": [
       "0"
      ]
     },
     "execution_count": 48,
     "metadata": {},
     "output_type": "execute_result"
    }
   ],
   "source": [
    "# удаление явных дубликатов (с удалением старых индексов и формирование новых)\n",
    "df = df.drop_duplicates().reset_index(drop=True)\n",
    "\n",
    "# проверка на отсутствие дубликатов\n",
    "df.duplicated().sum()"
   ]
  },
  {
   "cell_type": "markdown",
   "metadata": {
    "id": "Rs6OW4wrwapq"
   },
   "source": [
    "Определим все уникальные записи в столбце `education`. "
   ]
  },
  {
   "cell_type": "code",
   "execution_count": 49,
   "metadata": {
    "colab": {
     "base_uri": "https://localhost:8080/"
    },
    "id": "J9sthp6flzbM",
    "outputId": "fd362843-1eea-4cb7-f37d-6f7673890c49"
   },
   "outputs": [
    {
     "data": {
      "text/plain": [
       "array(['ВЫСШЕЕ', 'Высшее', 'НАЧАЛЬНОЕ', 'НЕОКОНЧЕННОЕ ВЫСШЕЕ',\n",
       "       'Начальное', 'Неоконченное высшее', 'СРЕДНЕЕ', 'Среднее',\n",
       "       'УЧЕНАЯ СТЕПЕНЬ', 'Ученая степень', 'высшее', 'начальное',\n",
       "       'неоконченное высшее', 'среднее', 'ученая степень'], dtype=object)"
      ]
     },
     "execution_count": 49,
     "metadata": {},
     "output_type": "execute_result"
    }
   ],
   "source": [
    "df['education'].sort_values().unique()"
   ]
  },
  {
   "cell_type": "markdown",
   "metadata": {
    "id": "boImeCM1lzbM"
   },
   "source": [
    "Видим, что названия записаны в разном регистре, поэтому переведем все записи в нижний регистр для устрания неявных дубликатов и выведем полученный список уникальных значений."
   ]
  },
  {
   "cell_type": "code",
   "execution_count": 50,
   "metadata": {
    "colab": {
     "base_uri": "https://localhost:8080/"
    },
    "id": "1Yu0tdEwlzbM",
    "outputId": "1abebead-b9c8-4241-8691-fb8d5f4c7824"
   },
   "outputs": [
    {
     "data": {
      "text/plain": [
       "array(['высшее', 'начальное', 'неоконченное высшее', 'среднее',\n",
       "       'ученая степень'], dtype=object)"
      ]
     },
     "execution_count": 50,
     "metadata": {},
     "output_type": "execute_result"
    }
   ],
   "source": [
    "df['education'] = df['education'].str.lower()\n",
    "df['education'].sort_values().unique()"
   ]
  },
  {
   "cell_type": "markdown",
   "metadata": {
    "id": "s9_xYdhAlzbM"
   },
   "source": [
    "Проверим, появились ли после такой замены дубликаты в явном виде. Снова применим метод `duplicated()`"
   ]
  },
  {
   "cell_type": "code",
   "execution_count": 51,
   "metadata": {
    "colab": {
     "base_uri": "https://localhost:8080/"
    },
    "id": "IUmj09sflzbN",
    "outputId": "054eb6da-11a3-44b6-b803-b4a457d236a6"
   },
   "outputs": [
    {
     "data": {
      "text/plain": [
       "17"
      ]
     },
     "execution_count": 51,
     "metadata": {},
     "output_type": "execute_result"
    }
   ],
   "source": [
    "df.duplicated().sum()"
   ]
  },
  {
   "cell_type": "code",
   "execution_count": 52,
   "metadata": {
    "colab": {
     "base_uri": "https://localhost:8080/"
    },
    "id": "CzcPMawslzbN",
    "outputId": "6612e402-6fb9-43d7-eb4b-1d0cb9db56a3"
   },
   "outputs": [
    {
     "data": {
      "text/plain": [
       "0"
      ]
     },
     "execution_count": 52,
     "metadata": {},
     "output_type": "execute_result"
    }
   ],
   "source": [
    "#Дубликаты остались, поэтому удалим эти явные дубликаты (с удалением старых индексов и формированием новых)\n",
    "df = df.drop_duplicates().reset_index(drop=True)\n",
    "# проверка на отсутствие дубликатов\n",
    "df.duplicated().sum()"
   ]
  },
  {
   "cell_type": "code",
   "execution_count": 53,
   "metadata": {
    "colab": {
     "base_uri": "https://localhost:8080/"
    },
    "id": "XzbPkAf6lzbM",
    "outputId": "9f5fb14b-35e6-434b-d8b6-758ff570c675"
   },
   "outputs": [
    {
     "data": {
      "text/plain": [
       "family_status\n",
       "женат / замужем          0.575138\n",
       "гражданский брак         0.193484\n",
       "Не женат / не замужем    0.130978\n",
       "в разводе                0.055701\n",
       "вдовец / вдова           0.044700\n",
       "Name: proportion, dtype: float64"
      ]
     },
     "execution_count": 53,
     "metadata": {},
     "output_type": "execute_result"
    }
   ],
   "source": [
    "# Выведем на экран список уникальных названий family_status, отсортированный в алфавитном порядке\n",
    "df['family_status'].value_counts(normalize=True)"
   ]
  },
  {
   "cell_type": "markdown",
   "metadata": {
    "id": "dZb2voWslzbM"
   },
   "source": [
    "В столбце `family_status` неявных дубликатов не обнаружено."
   ]
  },
  {
   "cell_type": "code",
   "execution_count": 54,
   "metadata": {
    "colab": {
     "base_uri": "https://localhost:8080/"
    },
    "id": "a5R2DXujlzbN",
    "outputId": "9524b4de-63c8-4887-b964-72357cc8d91a"
   },
   "outputs": [
    {
     "data": {
      "text/plain": [
       "income_type\n",
       "сотрудник          0.516640\n",
       "компаньон          0.236692\n",
       "пенсионер          0.178475\n",
       "госслужащий        0.067913\n",
       "безработный        0.000093\n",
       "предприниматель    0.000093\n",
       "в декрете          0.000047\n",
       "студент            0.000047\n",
       "Name: proportion, dtype: float64"
      ]
     },
     "execution_count": 54,
     "metadata": {},
     "output_type": "execute_result"
    }
   ],
   "source": [
    "# Выведем на экран список уникальных названий income_type, отсортированный в алфавитном порядке\n",
    "df['income_type'].sort_values().value_counts(normalize=True)"
   ]
  },
  {
   "cell_type": "markdown",
   "metadata": {
    "id": "JUkwpCEklzbN"
   },
   "source": [
    "В столбце `income_type` неявных дубликатов не обнаружено."
   ]
  },
  {
   "cell_type": "code",
   "execution_count": 55,
   "metadata": {
    "colab": {
     "base_uri": "https://localhost:8080/"
    },
    "id": "tyDbzFxrlzbN",
    "outputId": "ac96ef00-15ad-48a1-f951-907888c14d73"
   },
   "outputs": [
    {
     "data": {
      "text/plain": [
       "array(['автомобили', 'автомобиль', 'высшее образование',\n",
       "       'дополнительное образование', 'жилье',\n",
       "       'заняться высшим образованием', 'заняться образованием',\n",
       "       'на покупку автомобиля', 'на покупку подержанного автомобиля',\n",
       "       'на покупку своего автомобиля', 'на проведение свадьбы',\n",
       "       'недвижимость', 'образование', 'операции с жильем',\n",
       "       'операции с коммерческой недвижимостью',\n",
       "       'операции с недвижимостью', 'операции со своей недвижимостью',\n",
       "       'покупка жилой недвижимости', 'покупка жилья',\n",
       "       'покупка жилья для сдачи', 'покупка жилья для семьи',\n",
       "       'покупка коммерческой недвижимости', 'покупка недвижимости',\n",
       "       'покупка своего жилья', 'получение высшего образования',\n",
       "       'получение дополнительного образования', 'получение образования',\n",
       "       'приобретение автомобиля', 'профильное образование',\n",
       "       'ремонт жилью', 'свадьба', 'свой автомобиль',\n",
       "       'сделка с автомобилем', 'сделка с подержанным автомобилем',\n",
       "       'строительство жилой недвижимости', 'строительство недвижимости',\n",
       "       'строительство собственной недвижимости', 'сыграть свадьбу'],\n",
       "      dtype=object)"
      ]
     },
     "execution_count": 55,
     "metadata": {},
     "output_type": "execute_result"
    }
   ],
   "source": [
    "# Выведем на экран список уникальных названий purpose, отсортированный в алфавитном порядке\n",
    "df['purpose'].sort_values().unique()"
   ]
  },
  {
   "cell_type": "markdown",
   "metadata": {
    "id": "0DmNRat7lzbN"
   },
   "source": [
    "Многие записи дублируют друг друга, но имеют различную формулировку. Скорее всего, наличие такого большого количества различных записей связано со свободной формой заполнения соответствующих данных и отсутствием единого формата.\n",
    "\n"
   ]
  },
  {
   "cell_type": "markdown",
   "metadata": {
    "id": "gK5eMiNjlzbL"
   },
   "source": [
    "### Аномальные значения"
   ]
  },
  {
   "cell_type": "code",
   "execution_count": 56,
   "metadata": {
    "colab": {
     "base_uri": "https://localhost:8080/",
     "height": 1000
    },
    "id": "BJChKshqwapu",
    "outputId": "9cb515f8-8b56-4ecb-ab01-77909a87cac5"
   },
   "outputs": [
    {
     "data": {
      "image/png": "[encoded data removed]",
      "text/plain": [
       "<Figure size 1200x300 with 1 Axes>"
      ]
     },
     "metadata": {},
     "output_type": "display_data"
    },
    {
     "data": {
      "image/png": "[encoded data removed]",
      "text/plain": [
       "<Figure size 1200x300 with 1 Axes>"
      ]
     },
     "metadata": {},
     "output_type": "display_data"
    },
    {
     "data": {
      "image/png": "[encoded data removed]",
      "text/plain": [
       "<Figure size 1200x300 with 1 Axes>"
      ]
     },
     "metadata": {},
     "output_type": "display_data"
    },
    {
     "data": {
      "image/png": "[encoded data removed]",
      "text/plain": [
       "<Figure size 1200x300 with 1 Axes>"
      ]
     },
     "metadata": {},
     "output_type": "display_data"
    }
   ],
   "source": [
    "sns.set_palette('Set2')\n",
    "for name in ['children', 'days_employed', 'dob_years', 'total_income']:\n",
    "    fig = plt.figure(figsize = (12,3))\n",
    "    plt.title(f\"Диаграмма размаха признака \"+name, fontsize=14)\n",
    "    sns.boxplot(x = df[name])\n",
    "\n",
    "    plt.xlabel(name, fontsize = 12)\n",
    "    plt.show()"
   ]
  },
  {
   "cell_type": "code",
   "execution_count": 57,
   "metadata": {
    "colab": {
     "base_uri": "https://localhost:8080/",
     "height": 1000
    },
    "id": "eLQlO2_Jwapu",
    "outputId": "da590e01-ca99-4554-ac6a-1d4a612fef59"
   },
   "outputs": [
    {
     "data": {
      "image/png": "[encoded data removed]",
      "text/plain": [
       "<Figure size 1200x300 with 1 Axes>"
      ]
     },
     "metadata": {},
     "output_type": "display_data"
    },
    {
     "data": {
      "image/png": "[encoded data removed]",
      "text/plain": [
       "<Figure size 1200x300 with 1 Axes>"
      ]
     },
     "metadata": {},
     "output_type": "display_data"
    },
    {
     "data": {
      "image/png": "[encoded data removed]",
      "text/plain": [
       "<Figure size 1200x300 with 1 Axes>"
      ]
     },
     "metadata": {},
     "output_type": "display_data"
    },
    {
     "data": {
      "image/png": "[encoded data removed]",
      "text/plain": [
       "<Figure size 1200x300 with 1 Axes>"
      ]
     },
     "metadata": {},
     "output_type": "display_data"
    }
   ],
   "source": [
    "sns.set_palette('Blues_r')\n",
    "for name in ['children', 'days_employed', 'dob_years', 'total_income']:\n",
    "    fig = plt.figure(figsize = (12,3))\n",
    "    plt.title(f\"Диаграмма размаха признака \"+name, fontsize=14)\n",
    "    sns.violinplot(x = df[name])\n",
    "\n",
    "    plt.xlabel(name, fontsize = 12)\n",
    "    plt.show()"
   ]
  },
  {
   "cell_type": "markdown",
   "metadata": {
    "id": "qmmW19Bwwapu"
   },
   "source": [
    "Оценим статистические характеристики числовых признаков."
   ]
  },
  {
   "cell_type": "code",
   "execution_count": 58,
   "metadata": {
    "colab": {
     "base_uri": "https://localhost:8080/",
     "height": 300
    },
    "id": "Nn3lkzTZlzbL",
    "outputId": "7d6739fd-c8d8-4445-ae3c-b10ba94ad68f"
   },
   "outputs": [
    {
     "data": {
      "text/html": [
       "<div>\n",
       "<style scoped>\n",
       "    .dataframe tbody tr th:only-of-type {\n",
       "        vertical-align: middle;\n",
       "    }\n",
       "\n",
       "    .dataframe tbody tr th {\n",
       "        vertical-align: top;\n",
       "    }\n",
       "\n",
       "    .dataframe thead th {\n",
       "        text-align: right;\n",
       "    }\n",
       "</style>\n",
       "<table border=\"1\" class=\"dataframe\">\n",
       "  <thead>\n",
       "    <tr style=\"text-align: right;\">\n",
       "      <th></th>\n",
       "      <th>children</th>\n",
       "      <th>days_employed</th>\n",
       "      <th>dob_years</th>\n",
       "      <th>education_id</th>\n",
       "      <th>family_status_id</th>\n",
       "      <th>debt</th>\n",
       "      <th>total_income</th>\n",
       "    </tr>\n",
       "  </thead>\n",
       "  <tbody>\n",
       "    <tr>\n",
       "      <th>count</th>\n",
       "      <td>21454.000000</td>\n",
       "      <td>21454.000000</td>\n",
       "      <td>21454.000000</td>\n",
       "      <td>21454.000000</td>\n",
       "      <td>21454.000000</td>\n",
       "      <td>21454.000000</td>\n",
       "      <td>2.145400e+04</td>\n",
       "    </tr>\n",
       "    <tr>\n",
       "      <th>mean</th>\n",
       "      <td>0.539946</td>\n",
       "      <td>56748.489332</td>\n",
       "      <td>43.271231</td>\n",
       "      <td>0.817097</td>\n",
       "      <td>0.973898</td>\n",
       "      <td>0.081150</td>\n",
       "      <td>1.652256e+05</td>\n",
       "    </tr>\n",
       "    <tr>\n",
       "      <th>std</th>\n",
       "      <td>1.383444</td>\n",
       "      <td>135104.409125</td>\n",
       "      <td>12.570822</td>\n",
       "      <td>0.548674</td>\n",
       "      <td>1.421567</td>\n",
       "      <td>0.273072</td>\n",
       "      <td>9.802102e+04</td>\n",
       "    </tr>\n",
       "    <tr>\n",
       "      <th>min</th>\n",
       "      <td>-1.000000</td>\n",
       "      <td>-18388.949901</td>\n",
       "      <td>0.000000</td>\n",
       "      <td>0.000000</td>\n",
       "      <td>0.000000</td>\n",
       "      <td>0.000000</td>\n",
       "      <td>2.066700e+04</td>\n",
       "    </tr>\n",
       "    <tr>\n",
       "      <th>25%</th>\n",
       "      <td>0.000000</td>\n",
       "      <td>-2523.810846</td>\n",
       "      <td>33.000000</td>\n",
       "      <td>1.000000</td>\n",
       "      <td>0.000000</td>\n",
       "      <td>0.000000</td>\n",
       "      <td>1.076230e+05</td>\n",
       "    </tr>\n",
       "    <tr>\n",
       "      <th>50%</th>\n",
       "      <td>0.000000</td>\n",
       "      <td>-1203.369529</td>\n",
       "      <td>42.000000</td>\n",
       "      <td>1.000000</td>\n",
       "      <td>0.000000</td>\n",
       "      <td>0.000000</td>\n",
       "      <td>1.450170e+05</td>\n",
       "    </tr>\n",
       "    <tr>\n",
       "      <th>75%</th>\n",
       "      <td>1.000000</td>\n",
       "      <td>-382.445814</td>\n",
       "      <td>53.000000</td>\n",
       "      <td>1.000000</td>\n",
       "      <td>1.000000</td>\n",
       "      <td>0.000000</td>\n",
       "      <td>1.958132e+05</td>\n",
       "    </tr>\n",
       "    <tr>\n",
       "      <th>max</th>\n",
       "      <td>20.000000</td>\n",
       "      <td>401755.400475</td>\n",
       "      <td>75.000000</td>\n",
       "      <td>4.000000</td>\n",
       "      <td>4.000000</td>\n",
       "      <td>1.000000</td>\n",
       "      <td>2.265604e+06</td>\n",
       "    </tr>\n",
       "  </tbody>\n",
       "</table>\n",
       "</div>"
      ],
      "text/plain": [
       "           children  days_employed     dob_years  education_id  \\\n",
       "count  21454.000000   21454.000000  21454.000000  21454.000000   \n",
       "mean       0.539946   56748.489332     43.271231      0.817097   \n",
       "std        1.383444  135104.409125     12.570822      0.548674   \n",
       "min       -1.000000  -18388.949901      0.000000      0.000000   \n",
       "25%        0.000000   -2523.810846     33.000000      1.000000   \n",
       "50%        0.000000   -1203.369529     42.000000      1.000000   \n",
       "75%        1.000000    -382.445814     53.000000      1.000000   \n",
       "max       20.000000  401755.400475     75.000000      4.000000   \n",
       "\n",
       "       family_status_id          debt  total_income  \n",
       "count      21454.000000  21454.000000  2.145400e+04  \n",
       "mean           0.973898      0.081150  1.652256e+05  \n",
       "std            1.421567      0.273072  9.802102e+04  \n",
       "min            0.000000      0.000000  2.066700e+04  \n",
       "25%            0.000000      0.000000  1.076230e+05  \n",
       "50%            0.000000      0.000000  1.450170e+05  \n",
       "75%            1.000000      0.000000  1.958132e+05  \n",
       "max            4.000000      1.000000  2.265604e+06  "
      ]
     },
     "execution_count": 58,
     "metadata": {},
     "output_type": "execute_result"
    }
   ],
   "source": [
    "# Выведем описательную статистику и проанализируем полученные результаты\n",
    "df.describe()"
   ]
  },
  {
   "cell_type": "markdown",
   "metadata": {
    "id": "kDYyH7xSlzbL"
   },
   "source": [
    "Среднее число отработанных дней(стаж работы) составляет 56557.34 дней, что соответствет 154.95 года. При этом минимальное значение отрицательно, чего не может быть. Возможно, при внесении данной информации была допущена ошибка по невнимательности. Выясним, сколько таких отрицательных значений."
   ]
  },
  {
   "cell_type": "code",
   "execution_count": 59,
   "metadata": {
    "colab": {
     "base_uri": "https://localhost:8080/"
    },
    "id": "Od7Q6zUGlzbL",
    "outputId": "6ae76ffa-629a-446b-8871-946627ca3f1a"
   },
   "outputs": [
    {
     "data": {
      "text/plain": [
       "0.8394238836580591"
      ]
     },
     "execution_count": 59,
     "metadata": {},
     "output_type": "execute_result"
    }
   ],
   "source": [
    "df[df['days_employed'] < 0].shape[0] / df.shape[0]"
   ]
  },
  {
   "cell_type": "markdown",
   "metadata": {
    "id": "_eiIyCKOlzbL"
   },
   "source": [
    "Всего отрицательных значений в столбце `days_employed` имеется 18009, что составляет 83.9%. Это очень много. Удалить эти данные нецелесообразно, т.к. их слишком много. Скорее всего, это ошибка оператора. Заменим отрицательные значения на их абсолютные значения."
   ]
  },
  {
   "cell_type": "code",
   "execution_count": 60,
   "metadata": {
    "colab": {
     "base_uri": "https://localhost:8080/"
    },
    "id": "YBn53DuglzbL",
    "outputId": "64de687d-3542-4c3b-b8d1-f86fd1fb1d45"
   },
   "outputs": [
    {
     "data": {
      "text/plain": [
       "0"
      ]
     },
     "execution_count": 60,
     "metadata": {},
     "output_type": "execute_result"
    }
   ],
   "source": [
    "df['days_employed'] = df['days_employed'].abs()\n",
    "df[df['days_employed'] < 0].shape[0]"
   ]
  },
  {
   "cell_type": "markdown",
   "metadata": {
    "id": "MZ45OdXhlzbL"
   },
   "source": [
    "Следующее непонятное значение - минимальное количество детей = -1, максимальное количество детей = 20. По поводу значения -1 есть подозрение, что это опечатка. Касательно 20 детей - всё может быть. Это может быть семья с приемными детьми. Выясним, какие значения имеются для количества детей в семье."
   ]
  },
  {
   "cell_type": "code",
   "execution_count": 61,
   "metadata": {
    "colab": {
     "base_uri": "https://localhost:8080/"
    },
    "id": "CcCsf-onlzbL",
    "outputId": "1752274c-0b2e-4ba9-b327-95cf791381fd"
   },
   "outputs": [
    {
     "data": {
      "text/plain": [
       "children\n",
       " 0     0.656801\n",
       " 1     0.224107\n",
       " 2     0.095646\n",
       " 3     0.015382\n",
       " 20    0.003542\n",
       "-1     0.002191\n",
       " 4     0.001911\n",
       " 5     0.000420\n",
       "Name: proportion, dtype: float64"
      ]
     },
     "execution_count": 61,
     "metadata": {},
     "output_type": "execute_result"
    }
   ],
   "source": [
    "#  Выведем весь список значений столбца children\n",
    "df['children'].value_counts(normalize=True)"
   ]
  },
  {
   "cell_type": "markdown",
   "metadata": {
    "id": "nkNGv-DnlzbM"
   },
   "source": [
    "Количество отрицательных значений невелико (около 0.2%), поэтому все значения `children` = -1 удалим из датасета.\n",
    "\n",
    "Касательно значения `children` = 20 есть сомнения. Т.к. это следующее после `children` = 5 значение, то есть подозрение, что это должны быть значения `children` = 2. Т.к. достоверно неизвестно, с чем связана эта \"ошибка\", то будем считать, что это ошибка записи. Количество значений `children` = 20 невелико (около 0.35%), поэтому все значения `children` = 20 удалим из датасета.\n"
   ]
  },
  {
   "cell_type": "code",
   "execution_count": 62,
   "metadata": {
    "id": "bEDwdfYRlzbL"
   },
   "outputs": [],
   "source": [
    "# Удалим из датасета некорректные значения, т.к. их доля мала\n",
    "df.query('children != -1 and children != 20', inplace=True)\n"
   ]
  },
  {
   "cell_type": "code",
   "execution_count": 63,
   "metadata": {
    "colab": {
     "base_uri": "https://localhost:8080/"
    },
    "id": "IMo7DCLzlzbL",
    "outputId": "8b10603c-4642-4ff5-c9b5-7f1f71059b4a"
   },
   "outputs": [
    {
     "data": {
      "text/plain": [
       "children\n",
       "0    0.660588\n",
       "1    0.225400\n",
       "2    0.096198\n",
       "3    0.015470\n",
       "4    0.001922\n",
       "5    0.000422\n",
       "Name: proportion, dtype: float64"
      ]
     },
     "execution_count": 63,
     "metadata": {},
     "output_type": "execute_result"
    }
   ],
   "source": [
    "#  Выведем весь сгруппированный список значений столбца children\n",
    "df['children'].value_counts(normalize=True)\n"
   ]
  },
  {
   "cell_type": "code",
   "execution_count": 64,
   "metadata": {
    "colab": {
     "base_uri": "https://localhost:8080/",
     "height": 363
    },
    "id": "yxWCTfEUlzbM",
    "outputId": "d07deb6f-71ff-46e6-deec-37dbea3667d1"
   },
   "outputs": [
    {
     "data": {
      "text/html": [
       "<div>\n",
       "<style scoped>\n",
       "    .dataframe tbody tr th:only-of-type {\n",
       "        vertical-align: middle;\n",
       "    }\n",
       "\n",
       "    .dataframe tbody tr th {\n",
       "        vertical-align: top;\n",
       "    }\n",
       "\n",
       "    .dataframe thead th {\n",
       "        text-align: right;\n",
       "    }\n",
       "</style>\n",
       "<table border=\"1\" class=\"dataframe\">\n",
       "  <thead>\n",
       "    <tr style=\"text-align: right;\">\n",
       "      <th></th>\n",
       "      <th>children</th>\n",
       "      <th>days_employed</th>\n",
       "      <th>dob_years</th>\n",
       "      <th>education_id</th>\n",
       "      <th>family_status_id</th>\n",
       "      <th>debt</th>\n",
       "      <th>total_income</th>\n",
       "    </tr>\n",
       "  </thead>\n",
       "  <tbody>\n",
       "    <tr>\n",
       "      <th>count</th>\n",
       "      <td>21331.000000</td>\n",
       "      <td>21331.000000</td>\n",
       "      <td>21331.000000</td>\n",
       "      <td>21331.000000</td>\n",
       "      <td>21331.000000</td>\n",
       "      <td>21331.000000</td>\n",
       "      <td>2.133100e+04</td>\n",
       "    </tr>\n",
       "    <tr>\n",
       "      <th>mean</th>\n",
       "      <td>0.474005</td>\n",
       "      <td>60575.173660</td>\n",
       "      <td>43.277952</td>\n",
       "      <td>0.816980</td>\n",
       "      <td>0.974497</td>\n",
       "      <td>0.081196</td>\n",
       "      <td>1.652494e+05</td>\n",
       "    </tr>\n",
       "    <tr>\n",
       "      <th>std</th>\n",
       "      <td>0.752378</td>\n",
       "      <td>133577.260770</td>\n",
       "      <td>12.575300</td>\n",
       "      <td>0.549282</td>\n",
       "      <td>1.421787</td>\n",
       "      <td>0.273143</td>\n",
       "      <td>9.814797e+04</td>\n",
       "    </tr>\n",
       "    <tr>\n",
       "      <th>min</th>\n",
       "      <td>0.000000</td>\n",
       "      <td>24.141633</td>\n",
       "      <td>0.000000</td>\n",
       "      <td>0.000000</td>\n",
       "      <td>0.000000</td>\n",
       "      <td>0.000000</td>\n",
       "      <td>2.066700e+04</td>\n",
       "    </tr>\n",
       "    <tr>\n",
       "      <th>5%</th>\n",
       "      <td>0.000000</td>\n",
       "      <td>241.317945</td>\n",
       "      <td>25.000000</td>\n",
       "      <td>0.000000</td>\n",
       "      <td>0.000000</td>\n",
       "      <td>0.000000</td>\n",
       "      <td>6.456150e+04</td>\n",
       "    </tr>\n",
       "    <tr>\n",
       "      <th>15%</th>\n",
       "      <td>0.000000</td>\n",
       "      <td>614.857012</td>\n",
       "      <td>29.000000</td>\n",
       "      <td>0.000000</td>\n",
       "      <td>0.000000</td>\n",
       "      <td>0.000000</td>\n",
       "      <td>8.870000e+04</td>\n",
       "    </tr>\n",
       "    <tr>\n",
       "      <th>50%</th>\n",
       "      <td>0.000000</td>\n",
       "      <td>1823.771136</td>\n",
       "      <td>42.000000</td>\n",
       "      <td>1.000000</td>\n",
       "      <td>0.000000</td>\n",
       "      <td>0.000000</td>\n",
       "      <td>1.450170e+05</td>\n",
       "    </tr>\n",
       "    <tr>\n",
       "      <th>75%</th>\n",
       "      <td>1.000000</td>\n",
       "      <td>4808.339082</td>\n",
       "      <td>53.000000</td>\n",
       "      <td>1.000000</td>\n",
       "      <td>1.000000</td>\n",
       "      <td>0.000000</td>\n",
       "      <td>1.958315e+05</td>\n",
       "    </tr>\n",
       "    <tr>\n",
       "      <th>95%</th>\n",
       "      <td>2.000000</td>\n",
       "      <td>378111.741370</td>\n",
       "      <td>64.000000</td>\n",
       "      <td>1.000000</td>\n",
       "      <td>4.000000</td>\n",
       "      <td>1.000000</td>\n",
       "      <td>3.317125e+05</td>\n",
       "    </tr>\n",
       "    <tr>\n",
       "      <th>max</th>\n",
       "      <td>5.000000</td>\n",
       "      <td>401755.400475</td>\n",
       "      <td>75.000000</td>\n",
       "      <td>4.000000</td>\n",
       "      <td>4.000000</td>\n",
       "      <td>1.000000</td>\n",
       "      <td>2.265604e+06</td>\n",
       "    </tr>\n",
       "  </tbody>\n",
       "</table>\n",
       "</div>"
      ],
      "text/plain": [
       "           children  days_employed     dob_years  education_id  \\\n",
       "count  21331.000000   21331.000000  21331.000000  21331.000000   \n",
       "mean       0.474005   60575.173660     43.277952      0.816980   \n",
       "std        0.752378  133577.260770     12.575300      0.549282   \n",
       "min        0.000000      24.141633      0.000000      0.000000   \n",
       "5%         0.000000     241.317945     25.000000      0.000000   \n",
       "15%        0.000000     614.857012     29.000000      0.000000   \n",
       "50%        0.000000    1823.771136     42.000000      1.000000   \n",
       "75%        1.000000    4808.339082     53.000000      1.000000   \n",
       "95%        2.000000  378111.741370     64.000000      1.000000   \n",
       "max        5.000000  401755.400475     75.000000      4.000000   \n",
       "\n",
       "       family_status_id          debt  total_income  \n",
       "count      21331.000000  21331.000000  2.133100e+04  \n",
       "mean           0.974497      0.081196  1.652494e+05  \n",
       "std            1.421787      0.273143  9.814797e+04  \n",
       "min            0.000000      0.000000  2.066700e+04  \n",
       "5%             0.000000      0.000000  6.456150e+04  \n",
       "15%            0.000000      0.000000  8.870000e+04  \n",
       "50%            0.000000      0.000000  1.450170e+05  \n",
       "75%            1.000000      0.000000  1.958315e+05  \n",
       "95%            4.000000      1.000000  3.317125e+05  \n",
       "max            4.000000      1.000000  2.265604e+06  "
      ]
     },
     "execution_count": 64,
     "metadata": {},
     "output_type": "execute_result"
    }
   ],
   "source": [
    "# Снова выведем описательную статистику и проверим выполненные замены\n",
    "df.describe(percentiles= [0.05,0.15,0.5,0.75,0.95])"
   ]
  },
  {
   "cell_type": "code",
   "execution_count": 65,
   "metadata": {
    "colab": {
     "base_uri": "https://localhost:8080/",
     "height": 175
    },
    "id": "xMGpYpdilzbM",
    "outputId": "b4f1240e-6a8c-468e-e94e-b3517f171e24"
   },
   "outputs": [
    {
     "data": {
      "text/html": [
       "<div>\n",
       "<style scoped>\n",
       "    .dataframe tbody tr th:only-of-type {\n",
       "        vertical-align: middle;\n",
       "    }\n",
       "\n",
       "    .dataframe tbody tr th {\n",
       "        vertical-align: top;\n",
       "    }\n",
       "\n",
       "    .dataframe thead th {\n",
       "        text-align: right;\n",
       "    }\n",
       "</style>\n",
       "<table border=\"1\" class=\"dataframe\">\n",
       "  <thead>\n",
       "    <tr style=\"text-align: right;\">\n",
       "      <th></th>\n",
       "      <th>education</th>\n",
       "      <th>family_status</th>\n",
       "      <th>gender</th>\n",
       "      <th>income_type</th>\n",
       "      <th>purpose</th>\n",
       "    </tr>\n",
       "  </thead>\n",
       "  <tbody>\n",
       "    <tr>\n",
       "      <th>count</th>\n",
       "      <td>21331</td>\n",
       "      <td>21331</td>\n",
       "      <td>21331</td>\n",
       "      <td>21331</td>\n",
       "      <td>21331</td>\n",
       "    </tr>\n",
       "    <tr>\n",
       "      <th>unique</th>\n",
       "      <td>5</td>\n",
       "      <td>5</td>\n",
       "      <td>3</td>\n",
       "      <td>8</td>\n",
       "      <td>38</td>\n",
       "    </tr>\n",
       "    <tr>\n",
       "      <th>top</th>\n",
       "      <td>среднее</td>\n",
       "      <td>женат / замужем</td>\n",
       "      <td>F</td>\n",
       "      <td>сотрудник</td>\n",
       "      <td>свадьба</td>\n",
       "    </tr>\n",
       "    <tr>\n",
       "      <th>freq</th>\n",
       "      <td>15075</td>\n",
       "      <td>12261</td>\n",
       "      <td>14092</td>\n",
       "      <td>11015</td>\n",
       "      <td>790</td>\n",
       "    </tr>\n",
       "  </tbody>\n",
       "</table>\n",
       "</div>"
      ],
      "text/plain": [
       "       education    family_status gender income_type  purpose\n",
       "count      21331            21331  21331       21331    21331\n",
       "unique         5                5      3           8       38\n",
       "top      среднее  женат / замужем      F   сотрудник  свадьба\n",
       "freq       15075            12261  14092       11015      790"
      ]
     },
     "execution_count": 65,
     "metadata": {},
     "output_type": "execute_result"
    }
   ],
   "source": [
    "# Выведем на экран список уникальных значений пола клиента (gender)\n",
    "df.describe(include= 'object')"
   ]
  },
  {
   "cell_type": "code",
   "execution_count": 66,
   "metadata": {
    "colab": {
     "base_uri": "https://localhost:8080/"
    },
    "id": "Rmj2RtJnlzbM",
    "outputId": "a90979c1-edc8-4706-c003-2464bafd2a81"
   },
   "outputs": [
    {
     "data": {
      "text/plain": [
       "gender\n",
       "F      14092\n",
       "M       7238\n",
       "XNA        1\n",
       "Name: count, dtype: int64"
      ]
     },
     "execution_count": 66,
     "metadata": {},
     "output_type": "execute_result"
    }
   ],
   "source": [
    "df['gender'].value_counts()\n"
   ]
  },
  {
   "cell_type": "code",
   "execution_count": 67,
   "metadata": {
    "colab": {
     "base_uri": "https://localhost:8080/"
    },
    "id": "opseWlzYlzbM",
    "outputId": "6703d763-967b-4ece-e750-6fbfba75352b"
   },
   "outputs": [
    {
     "data": {
      "text/plain": [
       "gender\n",
       "F    14092\n",
       "M     7238\n",
       "Name: count, dtype: int64"
      ]
     },
     "execution_count": 67,
     "metadata": {},
     "output_type": "execute_result"
    }
   ],
   "source": [
    "# Удалим из датасета некорректные значения, т.к. их доля мала\n",
    "df.query('gender != \"XNA\"', inplace=True)\n",
    "df['gender'].value_counts()"
   ]
  },
  {
   "cell_type": "markdown",
   "metadata": {
    "id": "WkyT-G05lzbO"
   },
   "source": [
    "### Создание категорий\n"
   ]
  },
  {
   "cell_type": "markdown",
   "metadata": {
    "id": "pt1gQQW7wapv"
   },
   "source": [
    "На основании диапазонов, указанных ниже, создадим столбец `total_income_category` с категориями:\n",
    "*\t0–30000 — 'E';\n",
    "*\t30001–50000 — 'D';\n",
    "*\t50001–200000 — 'C';\n",
    "*\t200001–1000000 — 'B';\n",
    "*\t1000001 и выше — 'A'."
   ]
  },
  {
   "cell_type": "code",
   "execution_count": 68,
   "metadata": {
    "id": "hbY6g4HDlzbO"
   },
   "outputs": [],
   "source": [
    "# Функция income_group для возврата номера категории дохода клиента\n",
    "\n",
    "def income_group(income):\n",
    "  cat = ['E', 'D', 'C', 'B', 'A']\n",
    "  dele = [30000, 50000, 200000, 1000000]\n",
    "  for i in range(4):\n",
    "    if income < dele[i]:\n",
    "      return cat[i]\n",
    "  return cat[-1]"
   ]
  },
  {
   "cell_type": "code",
   "execution_count": 69,
   "metadata": {
    "colab": {
     "base_uri": "https://localhost:8080/",
     "height": 206
    },
    "id": "iy5otVZllzbO",
    "outputId": "55a91479-e91c-4422-94c5-13826ad5b805"
   },
   "outputs": [
    {
     "data": {
      "text/html": [
       "<div>\n",
       "<style scoped>\n",
       "    .dataframe tbody tr th:only-of-type {\n",
       "        vertical-align: middle;\n",
       "    }\n",
       "\n",
       "    .dataframe tbody tr th {\n",
       "        vertical-align: top;\n",
       "    }\n",
       "\n",
       "    .dataframe thead th {\n",
       "        text-align: right;\n",
       "    }\n",
       "</style>\n",
       "<table border=\"1\" class=\"dataframe\">\n",
       "  <thead>\n",
       "    <tr style=\"text-align: right;\">\n",
       "      <th></th>\n",
       "      <th>children</th>\n",
       "      <th>days_employed</th>\n",
       "      <th>dob_years</th>\n",
       "      <th>education</th>\n",
       "      <th>education_id</th>\n",
       "      <th>family_status</th>\n",
       "      <th>family_status_id</th>\n",
       "      <th>gender</th>\n",
       "      <th>income_type</th>\n",
       "      <th>debt</th>\n",
       "      <th>total_income</th>\n",
       "      <th>purpose</th>\n",
       "      <th>total_income_category</th>\n",
       "    </tr>\n",
       "  </thead>\n",
       "  <tbody>\n",
       "    <tr>\n",
       "      <th>0</th>\n",
       "      <td>1</td>\n",
       "      <td>8437.673028</td>\n",
       "      <td>42</td>\n",
       "      <td>высшее</td>\n",
       "      <td>0</td>\n",
       "      <td>женат / замужем</td>\n",
       "      <td>0</td>\n",
       "      <td>F</td>\n",
       "      <td>сотрудник</td>\n",
       "      <td>0</td>\n",
       "      <td>253875</td>\n",
       "      <td>покупка жилья</td>\n",
       "      <td>B</td>\n",
       "    </tr>\n",
       "    <tr>\n",
       "      <th>1</th>\n",
       "      <td>1</td>\n",
       "      <td>4024.803754</td>\n",
       "      <td>36</td>\n",
       "      <td>среднее</td>\n",
       "      <td>1</td>\n",
       "      <td>женат / замужем</td>\n",
       "      <td>0</td>\n",
       "      <td>F</td>\n",
       "      <td>сотрудник</td>\n",
       "      <td>0</td>\n",
       "      <td>112080</td>\n",
       "      <td>приобретение автомобиля</td>\n",
       "      <td>C</td>\n",
       "    </tr>\n",
       "    <tr>\n",
       "      <th>2</th>\n",
       "      <td>0</td>\n",
       "      <td>5623.422610</td>\n",
       "      <td>33</td>\n",
       "      <td>среднее</td>\n",
       "      <td>1</td>\n",
       "      <td>женат / замужем</td>\n",
       "      <td>0</td>\n",
       "      <td>M</td>\n",
       "      <td>сотрудник</td>\n",
       "      <td>0</td>\n",
       "      <td>145885</td>\n",
       "      <td>покупка жилья</td>\n",
       "      <td>C</td>\n",
       "    </tr>\n",
       "    <tr>\n",
       "      <th>3</th>\n",
       "      <td>3</td>\n",
       "      <td>4124.747207</td>\n",
       "      <td>32</td>\n",
       "      <td>среднее</td>\n",
       "      <td>1</td>\n",
       "      <td>женат / замужем</td>\n",
       "      <td>0</td>\n",
       "      <td>M</td>\n",
       "      <td>сотрудник</td>\n",
       "      <td>0</td>\n",
       "      <td>267628</td>\n",
       "      <td>дополнительное образование</td>\n",
       "      <td>B</td>\n",
       "    </tr>\n",
       "    <tr>\n",
       "      <th>4</th>\n",
       "      <td>0</td>\n",
       "      <td>340266.072047</td>\n",
       "      <td>53</td>\n",
       "      <td>среднее</td>\n",
       "      <td>1</td>\n",
       "      <td>гражданский брак</td>\n",
       "      <td>1</td>\n",
       "      <td>F</td>\n",
       "      <td>пенсионер</td>\n",
       "      <td>0</td>\n",
       "      <td>158616</td>\n",
       "      <td>сыграть свадьбу</td>\n",
       "      <td>C</td>\n",
       "    </tr>\n",
       "  </tbody>\n",
       "</table>\n",
       "</div>"
      ],
      "text/plain": [
       "   children  days_employed  dob_years education  education_id  \\\n",
       "0         1    8437.673028         42    высшее             0   \n",
       "1         1    4024.803754         36   среднее             1   \n",
       "2         0    5623.422610         33   среднее             1   \n",
       "3         3    4124.747207         32   среднее             1   \n",
       "4         0  340266.072047         53   среднее             1   \n",
       "\n",
       "      family_status  family_status_id gender income_type  debt  total_income  \\\n",
       "0   женат / замужем                 0      F   сотрудник     0        253875   \n",
       "1   женат / замужем                 0      F   сотрудник     0        112080   \n",
       "2   женат / замужем                 0      M   сотрудник     0        145885   \n",
       "3   женат / замужем                 0      M   сотрудник     0        267628   \n",
       "4  гражданский брак                 1      F   пенсионер     0        158616   \n",
       "\n",
       "                      purpose total_income_category  \n",
       "0               покупка жилья                     B  \n",
       "1     приобретение автомобиля                     C  \n",
       "2               покупка жилья                     C  \n",
       "3  дополнительное образование                     B  \n",
       "4             сыграть свадьбу                     C  "
      ]
     },
     "execution_count": 69,
     "metadata": {},
     "output_type": "execute_result"
    }
   ],
   "source": [
    "df['total_income_category'] = df['total_income'].apply(income_group)\n",
    "df.head()"
   ]
  },
  {
   "cell_type": "markdown",
   "metadata": {
    "id": "ychVG2NrlzbO"
   },
   "source": [
    "### Создание функции для категоризации данных\n"
   ]
  },
  {
   "cell_type": "code",
   "execution_count": 70,
   "metadata": {
    "colab": {
     "base_uri": "https://localhost:8080/"
    },
    "id": "bVXwUkq2tPeZ",
    "outputId": "c690e12a-f2d8-4b1c-d35b-20d0b3388995"
   },
   "outputs": [
    {
     "data": {
      "text/plain": [
       "array(['автомобили', 'автомобиль', 'высшее образование',\n",
       "       'дополнительное образование', 'жилье',\n",
       "       'заняться высшим образованием', 'заняться образованием',\n",
       "       'на покупку автомобиля', 'на покупку подержанного автомобиля',\n",
       "       'на покупку своего автомобиля', 'на проведение свадьбы',\n",
       "       'недвижимость', 'образование', 'операции с жильем',\n",
       "       'операции с коммерческой недвижимостью',\n",
       "       'операции с недвижимостью', 'операции со своей недвижимостью',\n",
       "       'покупка жилой недвижимости', 'покупка жилья',\n",
       "       'покупка жилья для сдачи', 'покупка жилья для семьи',\n",
       "       'покупка коммерческой недвижимости', 'покупка недвижимости',\n",
       "       'покупка своего жилья', 'получение высшего образования',\n",
       "       'получение дополнительного образования', 'получение образования',\n",
       "       'приобретение автомобиля', 'профильное образование',\n",
       "       'ремонт жилью', 'свадьба', 'свой автомобиль',\n",
       "       'сделка с автомобилем', 'сделка с подержанным автомобилем',\n",
       "       'строительство жилой недвижимости', 'строительство недвижимости',\n",
       "       'строительство собственной недвижимости', 'сыграть свадьбу'],\n",
       "      dtype=object)"
      ]
     },
     "execution_count": 70,
     "metadata": {},
     "output_type": "execute_result"
    }
   ],
   "source": [
    "df['purpose'].sort_values().unique()"
   ]
  },
  {
   "cell_type": "code",
   "execution_count": 71,
   "metadata": {
    "id": "mnunW2NMlzbO"
   },
   "outputs": [],
   "source": [
    "# Функция purpose_group для возврата короткой формы целей кредитования\n",
    "def purpose_group(purposes):\n",
    "  if 'автомоб' in purposes:\n",
    "    return \"Операция с автомобилем\"\n",
    "  if 'образован' in purposes:\n",
    "    return \"получение образованиея\"\n",
    "  if 'свад' in purposes:\n",
    "    return \"проведение свадьбы\"\n",
    "  return \"операции с недвижемостью\""
   ]
  },
  {
   "cell_type": "code",
   "execution_count": 72,
   "metadata": {
    "colab": {
     "base_uri": "https://localhost:8080/",
     "height": 206
    },
    "id": "jjIgLDmIlzbO",
    "outputId": "de465a8b-5b47-478b-f5e8-ddadc4fddb0c"
   },
   "outputs": [
    {
     "data": {
      "text/html": [
       "<div>\n",
       "<style scoped>\n",
       "    .dataframe tbody tr th:only-of-type {\n",
       "        vertical-align: middle;\n",
       "    }\n",
       "\n",
       "    .dataframe tbody tr th {\n",
       "        vertical-align: top;\n",
       "    }\n",
       "\n",
       "    .dataframe thead th {\n",
       "        text-align: right;\n",
       "    }\n",
       "</style>\n",
       "<table border=\"1\" class=\"dataframe\">\n",
       "  <thead>\n",
       "    <tr style=\"text-align: right;\">\n",
       "      <th></th>\n",
       "      <th>children</th>\n",
       "      <th>days_employed</th>\n",
       "      <th>dob_years</th>\n",
       "      <th>education</th>\n",
       "      <th>education_id</th>\n",
       "      <th>family_status</th>\n",
       "      <th>family_status_id</th>\n",
       "      <th>gender</th>\n",
       "      <th>income_type</th>\n",
       "      <th>debt</th>\n",
       "      <th>total_income</th>\n",
       "      <th>purpose</th>\n",
       "      <th>total_income_category</th>\n",
       "      <th>purpose_category</th>\n",
       "    </tr>\n",
       "  </thead>\n",
       "  <tbody>\n",
       "    <tr>\n",
       "      <th>0</th>\n",
       "      <td>1</td>\n",
       "      <td>8437.673028</td>\n",
       "      <td>42</td>\n",
       "      <td>высшее</td>\n",
       "      <td>0</td>\n",
       "      <td>женат / замужем</td>\n",
       "      <td>0</td>\n",
       "      <td>F</td>\n",
       "      <td>сотрудник</td>\n",
       "      <td>0</td>\n",
       "      <td>253875</td>\n",
       "      <td>покупка жилья</td>\n",
       "      <td>B</td>\n",
       "      <td>операции с недвижемостью</td>\n",
       "    </tr>\n",
       "    <tr>\n",
       "      <th>1</th>\n",
       "      <td>1</td>\n",
       "      <td>4024.803754</td>\n",
       "      <td>36</td>\n",
       "      <td>среднее</td>\n",
       "      <td>1</td>\n",
       "      <td>женат / замужем</td>\n",
       "      <td>0</td>\n",
       "      <td>F</td>\n",
       "      <td>сотрудник</td>\n",
       "      <td>0</td>\n",
       "      <td>112080</td>\n",
       "      <td>приобретение автомобиля</td>\n",
       "      <td>C</td>\n",
       "      <td>Операция с автомобилем</td>\n",
       "    </tr>\n",
       "    <tr>\n",
       "      <th>2</th>\n",
       "      <td>0</td>\n",
       "      <td>5623.422610</td>\n",
       "      <td>33</td>\n",
       "      <td>среднее</td>\n",
       "      <td>1</td>\n",
       "      <td>женат / замужем</td>\n",
       "      <td>0</td>\n",
       "      <td>M</td>\n",
       "      <td>сотрудник</td>\n",
       "      <td>0</td>\n",
       "      <td>145885</td>\n",
       "      <td>покупка жилья</td>\n",
       "      <td>C</td>\n",
       "      <td>операции с недвижемостью</td>\n",
       "    </tr>\n",
       "    <tr>\n",
       "      <th>3</th>\n",
       "      <td>3</td>\n",
       "      <td>4124.747207</td>\n",
       "      <td>32</td>\n",
       "      <td>среднее</td>\n",
       "      <td>1</td>\n",
       "      <td>женат / замужем</td>\n",
       "      <td>0</td>\n",
       "      <td>M</td>\n",
       "      <td>сотрудник</td>\n",
       "      <td>0</td>\n",
       "      <td>267628</td>\n",
       "      <td>дополнительное образование</td>\n",
       "      <td>B</td>\n",
       "      <td>получение образованиея</td>\n",
       "    </tr>\n",
       "    <tr>\n",
       "      <th>4</th>\n",
       "      <td>0</td>\n",
       "      <td>340266.072047</td>\n",
       "      <td>53</td>\n",
       "      <td>среднее</td>\n",
       "      <td>1</td>\n",
       "      <td>гражданский брак</td>\n",
       "      <td>1</td>\n",
       "      <td>F</td>\n",
       "      <td>пенсионер</td>\n",
       "      <td>0</td>\n",
       "      <td>158616</td>\n",
       "      <td>сыграть свадьбу</td>\n",
       "      <td>C</td>\n",
       "      <td>проведение свадьбы</td>\n",
       "    </tr>\n",
       "  </tbody>\n",
       "</table>\n",
       "</div>"
      ],
      "text/plain": [
       "   children  days_employed  dob_years education  education_id  \\\n",
       "0         1    8437.673028         42    высшее             0   \n",
       "1         1    4024.803754         36   среднее             1   \n",
       "2         0    5623.422610         33   среднее             1   \n",
       "3         3    4124.747207         32   среднее             1   \n",
       "4         0  340266.072047         53   среднее             1   \n",
       "\n",
       "      family_status  family_status_id gender income_type  debt  total_income  \\\n",
       "0   женат / замужем                 0      F   сотрудник     0        253875   \n",
       "1   женат / замужем                 0      F   сотрудник     0        112080   \n",
       "2   женат / замужем                 0      M   сотрудник     0        145885   \n",
       "3   женат / замужем                 0      M   сотрудник     0        267628   \n",
       "4  гражданский брак                 1      F   пенсионер     0        158616   \n",
       "\n",
       "                      purpose total_income_category          purpose_category  \n",
       "0               покупка жилья                     B  операции с недвижемостью  \n",
       "1     приобретение автомобиля                     C    Операция с автомобилем  \n",
       "2               покупка жилья                     C  операции с недвижемостью  \n",
       "3  дополнительное образование                     B    получение образованиея  \n",
       "4             сыграть свадьбу                     C        проведение свадьбы  "
      ]
     },
     "execution_count": 72,
     "metadata": {},
     "output_type": "execute_result"
    }
   ],
   "source": [
    "df['purpose_category'] = df['purpose'].apply(purpose_group)\n",
    "df.head()"
   ]
  },
  {
   "cell_type": "markdown",
   "metadata": {
    "id": "cMtqxrJzlzbO"
   },
   "source": [
    "## Выводы\n"
   ]
  },
  {
   "cell_type": "code",
   "execution_count": 73,
   "metadata": {
    "colab": {
     "base_uri": "https://localhost:8080/",
     "height": 410
    },
    "id": "yTpYtLN_vUue",
    "outputId": "7095f9a0-f2fb-463d-c141-43d7ce45f2c8"
   },
   "outputs": [
    {
     "data": {
      "image/png": "[encoded data removed]",
      "text/plain": [
       "<Figure size 1000x400 with 1 Axes>"
      ]
     },
     "metadata": {},
     "output_type": "display_data"
    }
   ],
   "source": [
    "data_ch = df.groupby('children')[['children']].count()\n",
    "\n",
    "plt.figure(figsize=(10, 4))\n",
    "\n",
    "sns.lineplot(x=data_ch.index, y=data_ch.children, marker= \"D\")\n",
    "\n",
    "plt.title('График зависимости количества кредитов от количества детей')\n",
    "plt.xlabel('Количество детей')\n",
    "plt.ylabel('Количество кредитов')\n",
    "plt.show()"
   ]
  },
  {
   "cell_type": "markdown",
   "metadata": {
    "id": "SCNvG7kbvc5_"
   },
   "source": [
    "График получился достаточно наглядным: видно, как падает число выданных кредитов в зависимости от числа детей в семье заёмщика. Возможно, это не связано с тем, что многодетные семьи реже берут кредиты. Cемей без детей или с 1–2 детьми намного больше, чем многодетных. В таком случае стоит рассматривать относительные величины."
   ]
  },
  {
   "cell_type": "markdown",
   "metadata": {
    "id": "HM5zIAQJocUS"
   },
   "source": [
    "Сформируем таблицу, отражающую количество выданных кредитов и долю из возвратов в зависимости от количества детей."
   ]
  },
  {
   "cell_type": "code",
   "execution_count": 74,
   "metadata": {
    "colab": {
     "base_uri": "https://localhost:8080/",
     "height": 269
    },
    "id": "JGeVrEehwapw",
    "outputId": "5a6bb0e5-582c-4262-b77f-2738bc451d70"
   },
   "outputs": [
    {
     "data": {
      "text/html": [
       "<div>\n",
       "<style scoped>\n",
       "    .dataframe tbody tr th:only-of-type {\n",
       "        vertical-align: middle;\n",
       "    }\n",
       "\n",
       "    .dataframe tbody tr th {\n",
       "        vertical-align: top;\n",
       "    }\n",
       "\n",
       "    .dataframe thead th {\n",
       "        text-align: right;\n",
       "    }\n",
       "</style>\n",
       "<table border=\"1\" class=\"dataframe\">\n",
       "  <thead>\n",
       "    <tr style=\"text-align: right;\">\n",
       "      <th></th>\n",
       "      <th>count</th>\n",
       "      <th>sum</th>\n",
       "      <th>mean</th>\n",
       "    </tr>\n",
       "    <tr>\n",
       "      <th>children</th>\n",
       "      <th></th>\n",
       "      <th></th>\n",
       "      <th></th>\n",
       "    </tr>\n",
       "  </thead>\n",
       "  <tbody>\n",
       "    <tr>\n",
       "      <th>0</th>\n",
       "      <td>14090</td>\n",
       "      <td>1063</td>\n",
       "      <td>0.075444</td>\n",
       "    </tr>\n",
       "    <tr>\n",
       "      <th>1</th>\n",
       "      <td>4808</td>\n",
       "      <td>444</td>\n",
       "      <td>0.092346</td>\n",
       "    </tr>\n",
       "    <tr>\n",
       "      <th>2</th>\n",
       "      <td>2052</td>\n",
       "      <td>194</td>\n",
       "      <td>0.094542</td>\n",
       "    </tr>\n",
       "    <tr>\n",
       "      <th>3</th>\n",
       "      <td>330</td>\n",
       "      <td>27</td>\n",
       "      <td>0.081818</td>\n",
       "    </tr>\n",
       "    <tr>\n",
       "      <th>4</th>\n",
       "      <td>41</td>\n",
       "      <td>4</td>\n",
       "      <td>0.097561</td>\n",
       "    </tr>\n",
       "    <tr>\n",
       "      <th>5</th>\n",
       "      <td>9</td>\n",
       "      <td>0</td>\n",
       "      <td>0.000000</td>\n",
       "    </tr>\n",
       "  </tbody>\n",
       "</table>\n",
       "</div>"
      ],
      "text/plain": [
       "          count   sum      mean\n",
       "children                       \n",
       "0         14090  1063  0.075444\n",
       "1          4808   444  0.092346\n",
       "2          2052   194  0.094542\n",
       "3           330    27  0.081818\n",
       "4            41     4  0.097561\n",
       "5             9     0  0.000000"
      ]
     },
     "execution_count": 74,
     "metadata": {},
     "output_type": "execute_result"
    }
   ],
   "source": [
    "df.groupby('children')['debt'].agg(['count', 'sum', 'mean'])"
   ]
  },
  {
   "cell_type": "code",
   "execution_count": 75,
   "metadata": {
    "colab": {
     "base_uri": "https://localhost:8080/",
     "height": 237
    },
    "id": "KlVV6-obwapw",
    "outputId": "d7562dbb-7ebd-4278-ec5f-977373acfcf0"
   },
   "outputs": [
    {
     "data": {
      "text/html": [
       "<style type=\"text/css\">\n",
       "</style>\n",
       "<table id=\"T_79b97\">\n",
       "  <thead>\n",
       "    <tr>\n",
       "      <th class=\"blank level0\" >&nbsp;</th>\n",
       "      <th id=\"T_79b97_level0_col0\" class=\"col_heading level0 col0\" >children</th>\n",
       "      <th id=\"T_79b97_level0_col1\" class=\"col_heading level0 col1\" >total_users</th>\n",
       "      <th id=\"T_79b97_level0_col2\" class=\"col_heading level0 col2\" >debt</th>\n",
       "      <th id=\"T_79b97_level0_col3\" class=\"col_heading level0 col3\" >share</th>\n",
       "      <th id=\"T_79b97_level0_col4\" class=\"col_heading level0 col4\" >user_share</th>\n",
       "    </tr>\n",
       "  </thead>\n",
       "  <tbody>\n",
       "    <tr>\n",
       "      <th id=\"T_79b97_level0_row0\" class=\"row_heading level0 row0\" >0</th>\n",
       "      <td id=\"T_79b97_row0_col0\" class=\"data row0 col0\" >0</td>\n",
       "      <td id=\"T_79b97_row0_col1\" class=\"data row0 col1\" >14090</td>\n",
       "      <td id=\"T_79b97_row0_col2\" class=\"data row0 col2\" >1063</td>\n",
       "      <td id=\"T_79b97_row0_col3\" class=\"data row0 col3\" >7.5%</td>\n",
       "      <td id=\"T_79b97_row0_col4\" class=\"data row0 col4\" >66.1%</td>\n",
       "    </tr>\n",
       "    <tr>\n",
       "      <th id=\"T_79b97_level0_row1\" class=\"row_heading level0 row1\" >1</th>\n",
       "      <td id=\"T_79b97_row1_col0\" class=\"data row1 col0\" >1</td>\n",
       "      <td id=\"T_79b97_row1_col1\" class=\"data row1 col1\" >4808</td>\n",
       "      <td id=\"T_79b97_row1_col2\" class=\"data row1 col2\" >444</td>\n",
       "      <td id=\"T_79b97_row1_col3\" class=\"data row1 col3\" >9.2%</td>\n",
       "      <td id=\"T_79b97_row1_col4\" class=\"data row1 col4\" >22.5%</td>\n",
       "    </tr>\n",
       "    <tr>\n",
       "      <th id=\"T_79b97_level0_row2\" class=\"row_heading level0 row2\" >2</th>\n",
       "      <td id=\"T_79b97_row2_col0\" class=\"data row2 col0\" >2</td>\n",
       "      <td id=\"T_79b97_row2_col1\" class=\"data row2 col1\" >2052</td>\n",
       "      <td id=\"T_79b97_row2_col2\" class=\"data row2 col2\" >194</td>\n",
       "      <td id=\"T_79b97_row2_col3\" class=\"data row2 col3\" >9.5%</td>\n",
       "      <td id=\"T_79b97_row2_col4\" class=\"data row2 col4\" >9.6%</td>\n",
       "    </tr>\n",
       "    <tr>\n",
       "      <th id=\"T_79b97_level0_row3\" class=\"row_heading level0 row3\" >3</th>\n",
       "      <td id=\"T_79b97_row3_col0\" class=\"data row3 col0\" >3</td>\n",
       "      <td id=\"T_79b97_row3_col1\" class=\"data row3 col1\" >330</td>\n",
       "      <td id=\"T_79b97_row3_col2\" class=\"data row3 col2\" >27</td>\n",
       "      <td id=\"T_79b97_row3_col3\" class=\"data row3 col3\" >8.2%</td>\n",
       "      <td id=\"T_79b97_row3_col4\" class=\"data row3 col4\" >1.5%</td>\n",
       "    </tr>\n",
       "    <tr>\n",
       "      <th id=\"T_79b97_level0_row4\" class=\"row_heading level0 row4\" >4</th>\n",
       "      <td id=\"T_79b97_row4_col0\" class=\"data row4 col0\" >4</td>\n",
       "      <td id=\"T_79b97_row4_col1\" class=\"data row4 col1\" >41</td>\n",
       "      <td id=\"T_79b97_row4_col2\" class=\"data row4 col2\" >4</td>\n",
       "      <td id=\"T_79b97_row4_col3\" class=\"data row4 col3\" >9.8%</td>\n",
       "      <td id=\"T_79b97_row4_col4\" class=\"data row4 col4\" >0.2%</td>\n",
       "    </tr>\n",
       "    <tr>\n",
       "      <th id=\"T_79b97_level0_row5\" class=\"row_heading level0 row5\" >5</th>\n",
       "      <td id=\"T_79b97_row5_col0\" class=\"data row5 col0\" >5</td>\n",
       "      <td id=\"T_79b97_row5_col1\" class=\"data row5 col1\" >9</td>\n",
       "      <td id=\"T_79b97_row5_col2\" class=\"data row5 col2\" >0</td>\n",
       "      <td id=\"T_79b97_row5_col3\" class=\"data row5 col3\" >0.0%</td>\n",
       "      <td id=\"T_79b97_row5_col4\" class=\"data row5 col4\" >0.0%</td>\n",
       "    </tr>\n",
       "  </tbody>\n",
       "</table>\n"
      ],
      "text/plain": [
       "<pandas.io.formats.style.Styler at 0x169b132f750>"
      ]
     },
     "execution_count": 75,
     "metadata": {},
     "output_type": "execute_result"
    }
   ],
   "source": [
    "data_pivot = df.groupby('children')['debt'].agg(total_users = 'count', debt = 'sum', share = 'mean').reset_index()\n",
    "data_pivot['user_share'] = data_pivot['total_users']/data_pivot['total_users'].sum()\n",
    "data_pivot.style.format({'share' : '{:.1%}', 'user_share' : '{:.1%}' })\n"
   ]
  },
  {
   "cell_type": "markdown",
   "metadata": {
    "id": "jHxx2YxWocUT"
   },
   "source": [
    "Оформим результат такой группировки по столбцу и вычисление доли дефолтных кредитов в виде функции `get_share`, которая на вход принимает датафрейм, столбец для группировки, а столбец `debt` для аггрегации значений укажем по умолчанию. Возвращать функция должна таблицу результатов, отражающую значения столбца, по которому выполнялась группировка, количество выданных кредитов, количество дефолтных среди них, долю дефолтных кредитов и долю кредитов в общем числе выданных."
   ]
  },
  {
   "cell_type": "code",
   "execution_count": 76,
   "metadata": {
    "id": "g9R7Jbbwwapw"
   },
   "outputs": [],
   "source": [
    "def get_share(df, column, column_to_cal = 'debt'):\n",
    "    result = df.groupby(column)[column_to_cal].agg(total_users ='count', debts = 'sum', debt_share ='mean').reset_index()\n",
    "    result['users_share'] = result['total_users']/result['total_users'].sum()\n",
    "    result\n",
    "\n",
    "    return result.style.format({'debt_share': '{:.1%}',\n",
    "                                        'users_share': '{:.1%}'})"
   ]
  },
  {
   "cell_type": "code",
   "execution_count": 77,
   "metadata": {
    "colab": {
     "base_uri": "https://localhost:8080/",
     "height": 237
    },
    "id": "YzrKrsLawapw",
    "outputId": "f2589d67-4716-4bd8-92df-f201b5fd8fa5"
   },
   "outputs": [
    {
     "data": {
      "text/html": [
       "<style type=\"text/css\">\n",
       "</style>\n",
       "<table id=\"T_d60ab\">\n",
       "  <thead>\n",
       "    <tr>\n",
       "      <th class=\"blank level0\" >&nbsp;</th>\n",
       "      <th id=\"T_d60ab_level0_col0\" class=\"col_heading level0 col0\" >children</th>\n",
       "      <th id=\"T_d60ab_level0_col1\" class=\"col_heading level0 col1\" >total_users</th>\n",
       "      <th id=\"T_d60ab_level0_col2\" class=\"col_heading level0 col2\" >debts</th>\n",
       "      <th id=\"T_d60ab_level0_col3\" class=\"col_heading level0 col3\" >debt_share</th>\n",
       "      <th id=\"T_d60ab_level0_col4\" class=\"col_heading level0 col4\" >users_share</th>\n",
       "    </tr>\n",
       "  </thead>\n",
       "  <tbody>\n",
       "    <tr>\n",
       "      <th id=\"T_d60ab_level0_row0\" class=\"row_heading level0 row0\" >0</th>\n",
       "      <td id=\"T_d60ab_row0_col0\" class=\"data row0 col0\" >0</td>\n",
       "      <td id=\"T_d60ab_row0_col1\" class=\"data row0 col1\" >14090</td>\n",
       "      <td id=\"T_d60ab_row0_col2\" class=\"data row0 col2\" >1063</td>\n",
       "      <td id=\"T_d60ab_row0_col3\" class=\"data row0 col3\" >7.5%</td>\n",
       "      <td id=\"T_d60ab_row0_col4\" class=\"data row0 col4\" >66.1%</td>\n",
       "    </tr>\n",
       "    <tr>\n",
       "      <th id=\"T_d60ab_level0_row1\" class=\"row_heading level0 row1\" >1</th>\n",
       "      <td id=\"T_d60ab_row1_col0\" class=\"data row1 col0\" >1</td>\n",
       "      <td id=\"T_d60ab_row1_col1\" class=\"data row1 col1\" >4808</td>\n",
       "      <td id=\"T_d60ab_row1_col2\" class=\"data row1 col2\" >444</td>\n",
       "      <td id=\"T_d60ab_row1_col3\" class=\"data row1 col3\" >9.2%</td>\n",
       "      <td id=\"T_d60ab_row1_col4\" class=\"data row1 col4\" >22.5%</td>\n",
       "    </tr>\n",
       "    <tr>\n",
       "      <th id=\"T_d60ab_level0_row2\" class=\"row_heading level0 row2\" >2</th>\n",
       "      <td id=\"T_d60ab_row2_col0\" class=\"data row2 col0\" >2</td>\n",
       "      <td id=\"T_d60ab_row2_col1\" class=\"data row2 col1\" >2052</td>\n",
       "      <td id=\"T_d60ab_row2_col2\" class=\"data row2 col2\" >194</td>\n",
       "      <td id=\"T_d60ab_row2_col3\" class=\"data row2 col3\" >9.5%</td>\n",
       "      <td id=\"T_d60ab_row2_col4\" class=\"data row2 col4\" >9.6%</td>\n",
       "    </tr>\n",
       "    <tr>\n",
       "      <th id=\"T_d60ab_level0_row3\" class=\"row_heading level0 row3\" >3</th>\n",
       "      <td id=\"T_d60ab_row3_col0\" class=\"data row3 col0\" >3</td>\n",
       "      <td id=\"T_d60ab_row3_col1\" class=\"data row3 col1\" >330</td>\n",
       "      <td id=\"T_d60ab_row3_col2\" class=\"data row3 col2\" >27</td>\n",
       "      <td id=\"T_d60ab_row3_col3\" class=\"data row3 col3\" >8.2%</td>\n",
       "      <td id=\"T_d60ab_row3_col4\" class=\"data row3 col4\" >1.5%</td>\n",
       "    </tr>\n",
       "    <tr>\n",
       "      <th id=\"T_d60ab_level0_row4\" class=\"row_heading level0 row4\" >4</th>\n",
       "      <td id=\"T_d60ab_row4_col0\" class=\"data row4 col0\" >4</td>\n",
       "      <td id=\"T_d60ab_row4_col1\" class=\"data row4 col1\" >41</td>\n",
       "      <td id=\"T_d60ab_row4_col2\" class=\"data row4 col2\" >4</td>\n",
       "      <td id=\"T_d60ab_row4_col3\" class=\"data row4 col3\" >9.8%</td>\n",
       "      <td id=\"T_d60ab_row4_col4\" class=\"data row4 col4\" >0.2%</td>\n",
       "    </tr>\n",
       "    <tr>\n",
       "      <th id=\"T_d60ab_level0_row5\" class=\"row_heading level0 row5\" >5</th>\n",
       "      <td id=\"T_d60ab_row5_col0\" class=\"data row5 col0\" >5</td>\n",
       "      <td id=\"T_d60ab_row5_col1\" class=\"data row5 col1\" >9</td>\n",
       "      <td id=\"T_d60ab_row5_col2\" class=\"data row5 col2\" >0</td>\n",
       "      <td id=\"T_d60ab_row5_col3\" class=\"data row5 col3\" >0.0%</td>\n",
       "      <td id=\"T_d60ab_row5_col4\" class=\"data row5 col4\" >0.0%</td>\n",
       "    </tr>\n",
       "  </tbody>\n",
       "</table>\n"
      ],
      "text/plain": [
       "<pandas.io.formats.style.Styler at 0x169b0bb5c10>"
      ]
     },
     "execution_count": 77,
     "metadata": {},
     "output_type": "execute_result"
    }
   ],
   "source": [
    "get_share(df, 'children')"
   ]
  },
  {
   "cell_type": "markdown",
   "metadata": {
    "id": "mZZOfz-tlzbO"
   },
   "source": [
    "Число выданных кредитов для заемщиков без детей составляет 14090, из которых 1063 имеют просрочку. Доля невозврата кредита для заемщиков без детей составляет 7.5%. Для заемщиков с одним ребенком - 9.2%, с двумя детьми - 9.5%, с тремя детьми - 8.2%, для заемщиков с 4-мя детьми доля невозврата составила 9.8%. Можно сказать, что количество детей не влияет на возврат кредита в срок."
   ]
  },
  {
   "cell_type": "code",
   "execution_count": 78,
   "metadata": {
    "id": "MKRzy0FIlzbO"
   },
   "outputs": [],
   "source": [
    "# Сгруппируем данные по столбцу children и выведем на экран общее количество\n",
    "def debt_share(df, column, column_to_cal = 'debt'):\n",
    "    result = (df\n",
    "         .groupby(column, as_index=False)\n",
    "\n",
    "         .agg(total_users = (column_to_cal,'count'),\n",
    "              debts = (column_to_cal,'sum'),\n",
    "              debt_share = (column_to_cal,'mean'))\n",
    "              .assign(users_share = lambda x: x['total_users']/x['total_users'].sum())\n",
    "         .sort_values(by=('debt_share'), ascending=False)\n",
    "            )\n",
    "\n",
    "    return result.style.format({'debt_share': '{:.1%}',\n",
    "                                              'users_share': '{:.1%}'})\n",
    "\n"
   ]
  },
  {
   "cell_type": "code",
   "execution_count": 79,
   "metadata": {
    "colab": {
     "base_uri": "https://localhost:8080/",
     "height": 237
    },
    "id": "8_xtrxqAwapw",
    "outputId": "c6a30f2d-ec6e-41fa-f19c-f53e824792bf"
   },
   "outputs": [
    {
     "data": {
      "text/html": [
       "<style type=\"text/css\">\n",
       "</style>\n",
       "<table id=\"T_cc457\">\n",
       "  <thead>\n",
       "    <tr>\n",
       "      <th class=\"blank level0\" >&nbsp;</th>\n",
       "      <th id=\"T_cc457_level0_col0\" class=\"col_heading level0 col0\" >children</th>\n",
       "      <th id=\"T_cc457_level0_col1\" class=\"col_heading level0 col1\" >total_users</th>\n",
       "      <th id=\"T_cc457_level0_col2\" class=\"col_heading level0 col2\" >debts</th>\n",
       "      <th id=\"T_cc457_level0_col3\" class=\"col_heading level0 col3\" >debt_share</th>\n",
       "      <th id=\"T_cc457_level0_col4\" class=\"col_heading level0 col4\" >users_share</th>\n",
       "    </tr>\n",
       "  </thead>\n",
       "  <tbody>\n",
       "    <tr>\n",
       "      <th id=\"T_cc457_level0_row0\" class=\"row_heading level0 row0\" >0</th>\n",
       "      <td id=\"T_cc457_row0_col0\" class=\"data row0 col0\" >0</td>\n",
       "      <td id=\"T_cc457_row0_col1\" class=\"data row0 col1\" >14090</td>\n",
       "      <td id=\"T_cc457_row0_col2\" class=\"data row0 col2\" >1063</td>\n",
       "      <td id=\"T_cc457_row0_col3\" class=\"data row0 col3\" >7.5%</td>\n",
       "      <td id=\"T_cc457_row0_col4\" class=\"data row0 col4\" >66.1%</td>\n",
       "    </tr>\n",
       "    <tr>\n",
       "      <th id=\"T_cc457_level0_row1\" class=\"row_heading level0 row1\" >1</th>\n",
       "      <td id=\"T_cc457_row1_col0\" class=\"data row1 col0\" >1</td>\n",
       "      <td id=\"T_cc457_row1_col1\" class=\"data row1 col1\" >4808</td>\n",
       "      <td id=\"T_cc457_row1_col2\" class=\"data row1 col2\" >444</td>\n",
       "      <td id=\"T_cc457_row1_col3\" class=\"data row1 col3\" >9.2%</td>\n",
       "      <td id=\"T_cc457_row1_col4\" class=\"data row1 col4\" >22.5%</td>\n",
       "    </tr>\n",
       "    <tr>\n",
       "      <th id=\"T_cc457_level0_row2\" class=\"row_heading level0 row2\" >2</th>\n",
       "      <td id=\"T_cc457_row2_col0\" class=\"data row2 col0\" >2</td>\n",
       "      <td id=\"T_cc457_row2_col1\" class=\"data row2 col1\" >2052</td>\n",
       "      <td id=\"T_cc457_row2_col2\" class=\"data row2 col2\" >194</td>\n",
       "      <td id=\"T_cc457_row2_col3\" class=\"data row2 col3\" >9.5%</td>\n",
       "      <td id=\"T_cc457_row2_col4\" class=\"data row2 col4\" >9.6%</td>\n",
       "    </tr>\n",
       "    <tr>\n",
       "      <th id=\"T_cc457_level0_row3\" class=\"row_heading level0 row3\" >3</th>\n",
       "      <td id=\"T_cc457_row3_col0\" class=\"data row3 col0\" >3</td>\n",
       "      <td id=\"T_cc457_row3_col1\" class=\"data row3 col1\" >330</td>\n",
       "      <td id=\"T_cc457_row3_col2\" class=\"data row3 col2\" >27</td>\n",
       "      <td id=\"T_cc457_row3_col3\" class=\"data row3 col3\" >8.2%</td>\n",
       "      <td id=\"T_cc457_row3_col4\" class=\"data row3 col4\" >1.5%</td>\n",
       "    </tr>\n",
       "    <tr>\n",
       "      <th id=\"T_cc457_level0_row4\" class=\"row_heading level0 row4\" >4</th>\n",
       "      <td id=\"T_cc457_row4_col0\" class=\"data row4 col0\" >4</td>\n",
       "      <td id=\"T_cc457_row4_col1\" class=\"data row4 col1\" >41</td>\n",
       "      <td id=\"T_cc457_row4_col2\" class=\"data row4 col2\" >4</td>\n",
       "      <td id=\"T_cc457_row4_col3\" class=\"data row4 col3\" >9.8%</td>\n",
       "      <td id=\"T_cc457_row4_col4\" class=\"data row4 col4\" >0.2%</td>\n",
       "    </tr>\n",
       "    <tr>\n",
       "      <th id=\"T_cc457_level0_row5\" class=\"row_heading level0 row5\" >5</th>\n",
       "      <td id=\"T_cc457_row5_col0\" class=\"data row5 col0\" >5</td>\n",
       "      <td id=\"T_cc457_row5_col1\" class=\"data row5 col1\" >9</td>\n",
       "      <td id=\"T_cc457_row5_col2\" class=\"data row5 col2\" >0</td>\n",
       "      <td id=\"T_cc457_row5_col3\" class=\"data row5 col3\" >0.0%</td>\n",
       "      <td id=\"T_cc457_row5_col4\" class=\"data row5 col4\" >0.0%</td>\n",
       "    </tr>\n",
       "  </tbody>\n",
       "</table>\n"
      ],
      "text/plain": [
       "<pandas.io.formats.style.Styler at 0x169b137ff90>"
      ]
     },
     "execution_count": 79,
     "metadata": {},
     "output_type": "execute_result"
    }
   ],
   "source": [
    "get_share(df, 'children')"
   ]
  },
  {
   "cell_type": "markdown",
   "metadata": {
    "id": "m7BGmdj_yzOK"
   },
   "source": [
    "**Связь между кредитами и семейным положением**"
   ]
  },
  {
   "cell_type": "code",
   "execution_count": 80,
   "metadata": {
    "colab": {
     "base_uri": "https://localhost:8080/",
     "height": 206
    },
    "id": "5cT4aAr_wapx",
    "outputId": "8807ed45-84b0-4c88-ad79-737c30cb6d68"
   },
   "outputs": [
    {
     "data": {
      "text/html": [
       "<style type=\"text/css\">\n",
       "</style>\n",
       "<table id=\"T_df3a7\">\n",
       "  <thead>\n",
       "    <tr>\n",
       "      <th class=\"blank level0\" >&nbsp;</th>\n",
       "      <th id=\"T_df3a7_level0_col0\" class=\"col_heading level0 col0\" >family_status</th>\n",
       "      <th id=\"T_df3a7_level0_col1\" class=\"col_heading level0 col1\" >total_users</th>\n",
       "      <th id=\"T_df3a7_level0_col2\" class=\"col_heading level0 col2\" >debts</th>\n",
       "      <th id=\"T_df3a7_level0_col3\" class=\"col_heading level0 col3\" >debt_share</th>\n",
       "      <th id=\"T_df3a7_level0_col4\" class=\"col_heading level0 col4\" >users_share</th>\n",
       "    </tr>\n",
       "  </thead>\n",
       "  <tbody>\n",
       "    <tr>\n",
       "      <th id=\"T_df3a7_level0_row0\" class=\"row_heading level0 row0\" >0</th>\n",
       "      <td id=\"T_df3a7_row0_col0\" class=\"data row0 col0\" >Не женат / не замужем</td>\n",
       "      <td id=\"T_df3a7_row0_col1\" class=\"data row0 col1\" >2796</td>\n",
       "      <td id=\"T_df3a7_row0_col2\" class=\"data row0 col2\" >273</td>\n",
       "      <td id=\"T_df3a7_row0_col3\" class=\"data row0 col3\" >9.8%</td>\n",
       "      <td id=\"T_df3a7_row0_col4\" class=\"data row0 col4\" >13.1%</td>\n",
       "    </tr>\n",
       "    <tr>\n",
       "      <th id=\"T_df3a7_level0_row1\" class=\"row_heading level0 row1\" >1</th>\n",
       "      <td id=\"T_df3a7_row1_col0\" class=\"data row1 col0\" >в разводе</td>\n",
       "      <td id=\"T_df3a7_row1_col1\" class=\"data row1 col1\" >1189</td>\n",
       "      <td id=\"T_df3a7_row1_col2\" class=\"data row1 col2\" >84</td>\n",
       "      <td id=\"T_df3a7_row1_col3\" class=\"data row1 col3\" >7.1%</td>\n",
       "      <td id=\"T_df3a7_row1_col4\" class=\"data row1 col4\" >5.6%</td>\n",
       "    </tr>\n",
       "    <tr>\n",
       "      <th id=\"T_df3a7_level0_row2\" class=\"row_heading level0 row2\" >2</th>\n",
       "      <td id=\"T_df3a7_row2_col0\" class=\"data row2 col0\" >вдовец / вдова</td>\n",
       "      <td id=\"T_df3a7_row2_col1\" class=\"data row2 col1\" >951</td>\n",
       "      <td id=\"T_df3a7_row2_col2\" class=\"data row2 col2\" >63</td>\n",
       "      <td id=\"T_df3a7_row2_col3\" class=\"data row2 col3\" >6.6%</td>\n",
       "      <td id=\"T_df3a7_row2_col4\" class=\"data row2 col4\" >4.5%</td>\n",
       "    </tr>\n",
       "    <tr>\n",
       "      <th id=\"T_df3a7_level0_row3\" class=\"row_heading level0 row3\" >3</th>\n",
       "      <td id=\"T_df3a7_row3_col0\" class=\"data row3 col0\" >гражданский брак</td>\n",
       "      <td id=\"T_df3a7_row3_col1\" class=\"data row3 col1\" >4133</td>\n",
       "      <td id=\"T_df3a7_row3_col2\" class=\"data row3 col2\" >385</td>\n",
       "      <td id=\"T_df3a7_row3_col3\" class=\"data row3 col3\" >9.3%</td>\n",
       "      <td id=\"T_df3a7_row3_col4\" class=\"data row3 col4\" >19.4%</td>\n",
       "    </tr>\n",
       "    <tr>\n",
       "      <th id=\"T_df3a7_level0_row4\" class=\"row_heading level0 row4\" >4</th>\n",
       "      <td id=\"T_df3a7_row4_col0\" class=\"data row4 col0\" >женат / замужем</td>\n",
       "      <td id=\"T_df3a7_row4_col1\" class=\"data row4 col1\" >12261</td>\n",
       "      <td id=\"T_df3a7_row4_col2\" class=\"data row4 col2\" >927</td>\n",
       "      <td id=\"T_df3a7_row4_col3\" class=\"data row4 col3\" >7.6%</td>\n",
       "      <td id=\"T_df3a7_row4_col4\" class=\"data row4 col4\" >57.5%</td>\n",
       "    </tr>\n",
       "  </tbody>\n",
       "</table>\n"
      ],
      "text/plain": [
       "<pandas.io.formats.style.Styler at 0x169b12ceb50>"
      ]
     },
     "execution_count": 80,
     "metadata": {},
     "output_type": "execute_result"
    }
   ],
   "source": [
    "get_share(df, 'family_status')"
   ]
  },
  {
   "cell_type": "markdown",
   "metadata": {
    "id": "kEXwVzTelzbO"
   },
   "source": [
    "Наибольшее количество кредитов выдано женатым/замужним заемщикам. Доля возврата кредита в срок для всех категорий примерно одинаковая.\n",
    "Для заемщиков в статусе вдова/вдовец доля возврата кредита в срок наибольшая , хотя кредитов таким заемщикам выдано наименьшее количество.\n",
    "\n",
    "Наименьшую долю возврата кредита в срок имеют заемщики в статусе гражданский брак и Не женат / не замужем.\n",
    "\n",
    "Поэтому можно сказать, что наименее ответвенными заемщиками можно считать заемщиков, состоящих в гражданском браке, или не женатых/ не замужних."
   ]
  },
  {
   "cell_type": "code",
   "execution_count": 81,
   "metadata": {
    "colab": {
     "base_uri": "https://localhost:8080/",
     "height": 569
    },
    "id": "ot7LURx6u1Wo",
    "outputId": "ab9c5f84-bda2-46c1-81ed-10cec971ea05"
   },
   "outputs": [
    {
     "data": {
      "image/png": "[encoded data removed]",
      "text/plain": [
       "<Figure size 900x600 with 1 Axes>"
      ]
     },
     "metadata": {},
     "output_type": "display_data"
    }
   ],
   "source": [
    "plt.figure(figsize=(9, 6))\n",
    "\n",
    "sns.histplot(x=df['total_income'], kde=True, bins=100)\n",
    "\n",
    "plt.xlim(0, 500000)\n",
    "plt.title('Распределение дохода', fontsize=14)\n",
    "plt.xlabel('Значение', fontsize=12)\n",
    "plt.ylabel('Частота', fontsize=12)\n",
    "\n",
    "plt.grid()\n",
    "plt.show()"
   ]
  },
  {
   "cell_type": "code",
   "execution_count": 82,
   "metadata": {
    "colab": {
     "base_uri": "https://localhost:8080/",
     "height": 206
    },
    "id": "vfMSmVTdwapx",
    "outputId": "88314c76-8176-4c2e-e83a-d5f1e1905964"
   },
   "outputs": [
    {
     "data": {
      "text/html": [
       "<style type=\"text/css\">\n",
       "</style>\n",
       "<table id=\"T_3e939\">\n",
       "  <thead>\n",
       "    <tr>\n",
       "      <th class=\"blank level0\" >&nbsp;</th>\n",
       "      <th id=\"T_3e939_level0_col0\" class=\"col_heading level0 col0\" >total_income_category</th>\n",
       "      <th id=\"T_3e939_level0_col1\" class=\"col_heading level0 col1\" >total_users</th>\n",
       "      <th id=\"T_3e939_level0_col2\" class=\"col_heading level0 col2\" >debts</th>\n",
       "      <th id=\"T_3e939_level0_col3\" class=\"col_heading level0 col3\" >debt_share</th>\n",
       "      <th id=\"T_3e939_level0_col4\" class=\"col_heading level0 col4\" >users_share</th>\n",
       "    </tr>\n",
       "  </thead>\n",
       "  <tbody>\n",
       "    <tr>\n",
       "      <th id=\"T_3e939_level0_row0\" class=\"row_heading level0 row0\" >0</th>\n",
       "      <td id=\"T_3e939_row0_col0\" class=\"data row0 col0\" >A</td>\n",
       "      <td id=\"T_3e939_row0_col1\" class=\"data row0 col1\" >25</td>\n",
       "      <td id=\"T_3e939_row0_col2\" class=\"data row0 col2\" >2</td>\n",
       "      <td id=\"T_3e939_row0_col3\" class=\"data row0 col3\" >8.0%</td>\n",
       "      <td id=\"T_3e939_row0_col4\" class=\"data row0 col4\" >0.1%</td>\n",
       "    </tr>\n",
       "    <tr>\n",
       "      <th id=\"T_3e939_level0_row1\" class=\"row_heading level0 row1\" >1</th>\n",
       "      <td id=\"T_3e939_row1_col0\" class=\"data row1 col0\" >B</td>\n",
       "      <td id=\"T_3e939_row1_col1\" class=\"data row1 col1\" >5012</td>\n",
       "      <td id=\"T_3e939_row1_col2\" class=\"data row1 col2\" >354</td>\n",
       "      <td id=\"T_3e939_row1_col3\" class=\"data row1 col3\" >7.1%</td>\n",
       "      <td id=\"T_3e939_row1_col4\" class=\"data row1 col4\" >23.5%</td>\n",
       "    </tr>\n",
       "    <tr>\n",
       "      <th id=\"T_3e939_level0_row2\" class=\"row_heading level0 row2\" >2</th>\n",
       "      <td id=\"T_3e939_row2_col0\" class=\"data row2 col0\" >C</td>\n",
       "      <td id=\"T_3e939_row2_col1\" class=\"data row2 col1\" >15922</td>\n",
       "      <td id=\"T_3e939_row2_col2\" class=\"data row2 col2\" >1353</td>\n",
       "      <td id=\"T_3e939_row2_col3\" class=\"data row2 col3\" >8.5%</td>\n",
       "      <td id=\"T_3e939_row2_col4\" class=\"data row2 col4\" >74.6%</td>\n",
       "    </tr>\n",
       "    <tr>\n",
       "      <th id=\"T_3e939_level0_row3\" class=\"row_heading level0 row3\" >3</th>\n",
       "      <td id=\"T_3e939_row3_col0\" class=\"data row3 col0\" >D</td>\n",
       "      <td id=\"T_3e939_row3_col1\" class=\"data row3 col1\" >349</td>\n",
       "      <td id=\"T_3e939_row3_col2\" class=\"data row3 col2\" >21</td>\n",
       "      <td id=\"T_3e939_row3_col3\" class=\"data row3 col3\" >6.0%</td>\n",
       "      <td id=\"T_3e939_row3_col4\" class=\"data row3 col4\" >1.6%</td>\n",
       "    </tr>\n",
       "    <tr>\n",
       "      <th id=\"T_3e939_level0_row4\" class=\"row_heading level0 row4\" >4</th>\n",
       "      <td id=\"T_3e939_row4_col0\" class=\"data row4 col0\" >E</td>\n",
       "      <td id=\"T_3e939_row4_col1\" class=\"data row4 col1\" >22</td>\n",
       "      <td id=\"T_3e939_row4_col2\" class=\"data row4 col2\" >2</td>\n",
       "      <td id=\"T_3e939_row4_col3\" class=\"data row4 col3\" >9.1%</td>\n",
       "      <td id=\"T_3e939_row4_col4\" class=\"data row4 col4\" >0.1%</td>\n",
       "    </tr>\n",
       "  </tbody>\n",
       "</table>\n"
      ],
      "text/plain": [
       "<pandas.io.formats.style.Styler at 0x169b1b6ec90>"
      ]
     },
     "execution_count": 82,
     "metadata": {},
     "output_type": "execute_result"
    }
   ],
   "source": [
    "get_share(df, 'total_income_category')"
   ]
  },
  {
   "cell_type": "markdown",
   "metadata": {
    "id": "y-eRAOsMlzbO"
   },
   "source": [
    "Наибольшее количество кредитов выдано заемщикам со средним доходом от 50001 до 200000 (категория С). Доля невозврата кредита в срок для этой категории составила 8.5%. Для заемщиков с высоким доходом 1000001 и выше (категория E)  выдано всего 25 кредитов и только 2 не возвращены в срок. Для заемщиков с доходами от 30001 до 50000 (категория D) доля возврата кредита в срок самая высокая и составляет 94.0%. Тем не менее, можно сказать, что наименее ответвенными заемщиками можно считать заемщиков с доходами ниже 300000."
   ]
  },
  {
   "cell_type": "markdown",
   "metadata": {
    "id": "H0nFsFbyvx0q"
   },
   "source": [
    "**Связь между доходом и образованием**"
   ]
  },
  {
   "cell_type": "code",
   "execution_count": 83,
   "metadata": {
    "colab": {
     "base_uri": "https://localhost:8080/",
     "height": 449
    },
    "id": "863n5zDQv1S6",
    "outputId": "4437600e-8cb8-41d0-dd26-68873efd1b99"
   },
   "outputs": [
    {
     "data": {
      "image/png": "[encoded data removed]",
      "text/plain": [
       "<Figure size 1000x400 with 1 Axes>"
      ]
     },
     "metadata": {},
     "output_type": "display_data"
    }
   ],
   "source": [
    "data_ed = df.groupby(['education', 'debt'], \\\n",
    "                        as_index = False)[['total_income']].median()\n",
    "\n",
    "plt.figure(figsize=(10, 4))\n",
    "\n",
    "sns.barplot(x = df['total_income'], y=df['education'], hue=df['debt'].astype('str'))\n",
    "\n",
    "plt.title('График дохода в зависимости от образования', fontsize=14)\n",
    "plt.xlabel('Медианный доход', fontsize=12)\n",
    "plt.ylabel('Образование', fontsize=12)\n",
    "plt.xticks(rotation=45)\n",
    "plt.legend(loc='lower right', fontsize=10)\n",
    "plt.grid()\n",
    "plt.show()"
   ]
  },
  {
   "cell_type": "markdown",
   "metadata": {
    "id": "vWi1Yd2lz7u3"
   },
   "source": [
    "Должниками бывают люди и с высшим, и с начальным образованием. Однако среди людей с учёной степенью должников нет вообще"
   ]
  },
  {
   "cell_type": "markdown",
   "metadata": {
    "id": "oh-rTpPx3pui"
   },
   "source": [
    "**Связь между целью кредитования и задолженностью**"
   ]
  },
  {
   "cell_type": "code",
   "execution_count": 84,
   "metadata": {
    "colab": {
     "base_uri": "https://localhost:8080/",
     "height": 175
    },
    "id": "__1UfdTnwapx",
    "outputId": "2b02563a-f747-4325-9853-2bb5e29a6681"
   },
   "outputs": [
    {
     "data": {
      "text/html": [
       "<style type=\"text/css\">\n",
       "</style>\n",
       "<table id=\"T_5e252\">\n",
       "  <thead>\n",
       "    <tr>\n",
       "      <th class=\"blank level0\" >&nbsp;</th>\n",
       "      <th id=\"T_5e252_level0_col0\" class=\"col_heading level0 col0\" >purpose_category</th>\n",
       "      <th id=\"T_5e252_level0_col1\" class=\"col_heading level0 col1\" >total_users</th>\n",
       "      <th id=\"T_5e252_level0_col2\" class=\"col_heading level0 col2\" >debts</th>\n",
       "      <th id=\"T_5e252_level0_col3\" class=\"col_heading level0 col3\" >debt_share</th>\n",
       "      <th id=\"T_5e252_level0_col4\" class=\"col_heading level0 col4\" >users_share</th>\n",
       "    </tr>\n",
       "  </thead>\n",
       "  <tbody>\n",
       "    <tr>\n",
       "      <th id=\"T_5e252_level0_row0\" class=\"row_heading level0 row0\" >0</th>\n",
       "      <td id=\"T_5e252_row0_col0\" class=\"data row0 col0\" >Операция с автомобилем</td>\n",
       "      <td id=\"T_5e252_row0_col1\" class=\"data row0 col1\" >4279</td>\n",
       "      <td id=\"T_5e252_row0_col2\" class=\"data row0 col2\" >400</td>\n",
       "      <td id=\"T_5e252_row0_col3\" class=\"data row0 col3\" >9.3%</td>\n",
       "      <td id=\"T_5e252_row0_col4\" class=\"data row0 col4\" >20.1%</td>\n",
       "    </tr>\n",
       "    <tr>\n",
       "      <th id=\"T_5e252_level0_row1\" class=\"row_heading level0 row1\" >1</th>\n",
       "      <td id=\"T_5e252_row1_col0\" class=\"data row1 col0\" >операции с недвижемостью</td>\n",
       "      <td id=\"T_5e252_row1_col1\" class=\"data row1 col1\" >10750</td>\n",
       "      <td id=\"T_5e252_row1_col2\" class=\"data row1 col2\" >780</td>\n",
       "      <td id=\"T_5e252_row1_col3\" class=\"data row1 col3\" >7.3%</td>\n",
       "      <td id=\"T_5e252_row1_col4\" class=\"data row1 col4\" >50.4%</td>\n",
       "    </tr>\n",
       "    <tr>\n",
       "      <th id=\"T_5e252_level0_row2\" class=\"row_heading level0 row2\" >2</th>\n",
       "      <td id=\"T_5e252_row2_col0\" class=\"data row2 col0\" >получение образованиея</td>\n",
       "      <td id=\"T_5e252_row2_col1\" class=\"data row2 col1\" >3988</td>\n",
       "      <td id=\"T_5e252_row2_col2\" class=\"data row2 col2\" >369</td>\n",
       "      <td id=\"T_5e252_row2_col3\" class=\"data row2 col3\" >9.3%</td>\n",
       "      <td id=\"T_5e252_row2_col4\" class=\"data row2 col4\" >18.7%</td>\n",
       "    </tr>\n",
       "    <tr>\n",
       "      <th id=\"T_5e252_level0_row3\" class=\"row_heading level0 row3\" >3</th>\n",
       "      <td id=\"T_5e252_row3_col0\" class=\"data row3 col0\" >проведение свадьбы</td>\n",
       "      <td id=\"T_5e252_row3_col1\" class=\"data row3 col1\" >2313</td>\n",
       "      <td id=\"T_5e252_row3_col2\" class=\"data row3 col2\" >183</td>\n",
       "      <td id=\"T_5e252_row3_col3\" class=\"data row3 col3\" >7.9%</td>\n",
       "      <td id=\"T_5e252_row3_col4\" class=\"data row3 col4\" >10.8%</td>\n",
       "    </tr>\n",
       "  </tbody>\n",
       "</table>\n"
      ],
      "text/plain": [
       "<pandas.io.formats.style.Styler at 0x169b140abd0>"
      ]
     },
     "execution_count": 84,
     "metadata": {},
     "output_type": "execute_result"
    }
   ],
   "source": [
    "get_share(df, 'purpose_category')"
   ]
  },
  {
   "cell_type": "markdown",
   "metadata": {
    "id": "lDcj5aJ4lzbO"
   },
   "source": [
    "Наибольшее количество кредитов выдано для проведения различных операций с недвижимостью. Доля возврата кредита в срок для всех категорий примерно одинаковая. Поэтому нельзя говорить о том, что разные цели кредита влияют на его возврат в срок."
   ]
  },
  {
   "cell_type": "markdown",
   "metadata": {
    "id": "vaMc_kOGlzbP"
   },
   "source": [
    "## Шаг 4. Общий вывод"
   ]
  },
  {
   "cell_type": "markdown",
   "metadata": {
    "id": "VnddTiV7lzbP"
   },
   "source": [
    "Датасет представляет собой статистику о платёжеспособности клиентов.\n",
    "\n",
    "Число выданных кредитов для заемщиков без детей составляет 14090, из которых 1063 имеют просрочку. Доля невозврата кредита для заемщиков без детей составляет 7.5%. Для заемщиков с одним ребенком - 9.2%, с двумя детьми - 9.5%, с тремя детьми - 8.2%, для заемщиков с 4-мя детьми доля невозврата составила 9.8%. Можно сказать, что количество детей не влияет на возврат кредита в срок.\n",
    "\n",
    "Наибольшее количество кредитов выдано для проведения различных операций с недвижимостью. Доля возврата кредита в срок для всех категорий примерно одинаковая. Поэтому нельзя говорить о том, что разные цели кредита влияют на его возврат в срок.\n",
    "\n",
    "Наибольшее количество кредитов выдано женатым/замужним заемщикам. Доля возврата кредита в срок для всех категорий примерно одинаковая.\n",
    "\n",
    "Для заемщиков в статусе вдова/вдовец доля возврата кредита в срок наибольшая, хотя кредитов таким заемщикам выдано наименьшее количество.\n",
    "Наименьшую долю возврата кредита в срок имеют заемщики в статусе гражданский брак и Не женат / не замужем).\n",
    "Поэтому можно сказать, что наименее ответвенными заемщиками можно считать заемщиков, состоящих в гражданском браке, или не женатых/ не замужних.\n",
    "\n",
    "\n",
    "Наибольшее количество кредитов выдано заемщикам со средним доходом от 50001 до 200000 (категория С). Доля невозврата кредита в срок для этой категории составила 8.5%. Для заемщиков с высоким доходом 1000001 и выше (категория E)  выдано всего 25 кредитов и только 2 не возвращены в срок. Для заемщиков с доходами от 30001 до 50000 (категория D) доля возврата кредита в срок самая высокая и составляет 94.0%. Тем не менее, можно сказать, что наименее ответвенными заемщиками можно считать заемщиков с доходами ниже 300000.\n",
    "\n"
   ]
  },
  {
   "cell_type": "code",
   "execution_count": null,
   "metadata": {
    "id": "ymvHzVX2lzbP"
   },
   "outputs": [],
   "source": []
  }
 ],
 "metadata": {
  "colab": {
   "provenance": []
  },
  "kernelspec": {
   "display_name": "Python 3 (ipykernel)",
   "language": "python",
   "name": "python3"
  },
  "language_info": {
   "codemirror_mode": {
    "name": "ipython",
    "version": 3
   },
   "file_extension": ".py",
   "mimetype": "text/x-python",
   "name": "python",
   "nbconvert_exporter": "python",
   "pygments_lexer": "ipython3",
   "version": "3.11.7"
  },
  "toc": {
   "base_numbering": 1,
   "nav_menu": {},
   "number_sections": true,
   "sideBar": true,
   "skip_h1_title": true,
   "title_cell": "Table of Contents",
   "title_sidebar": "Contents",
   "toc_cell": false,
   "toc_position": {},
   "toc_section_display": true,
   "toc_window_display": false
  }
 },
 "nbformat": 4,
 "nbformat_minor": 4
}
